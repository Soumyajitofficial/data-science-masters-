{
 "cells": [
  {
   "cell_type": "markdown",
   "id": "cbfbf7b6-def1-4458-ab57-2aba2a21dce3",
   "metadata": {},
   "source": [
    "Q1. You are writing code for a company. The requirement of the company is that you create a python\n",
    "function that will check whether the password entered by the user is correct or not. The function should take the password as input and return the string “Valid Password” if the entered password follows the below-given password guidelines else it should return “Invalid Password”.\n",
    "\n",
    "\n",
    "Note: \n",
    "\n",
    "1. The Password should contain at least two uppercase letters and at least two lowercase letters.\n",
    "\n",
    "2. The Password should contain at least a number and three special characters.\n",
    "\n",
    "3. The length of the password should be 10 characters long."
   ]
  },
  {
   "cell_type": "code",
   "execution_count": 1,
   "id": "d124dfb2-037e-4d1a-a1e5-dd6e56097925",
   "metadata": {},
   "outputs": [],
   "source": [
    "import string\n",
    "def pass_check(password):\n",
    "    u_count=sum(1 for char in password if char.isupper()==True)\n",
    "    l_count=sum(1 for char in password if char.islower()==True)\n",
    "    num_count=sum(1 for char in password if char.isnumeric()==True)\n",
    "    special_count=sum(1 for char in password if char not in string.ascii_letters and char not in string.digits and char not in string.whitespace)\n",
    "    if len(password)>=10:\n",
    "        if u_count>=2 and l_count>=2:\n",
    "            if num_count>=1 and special_count>=3:\n",
    "                return \"valid\"\n",
    "            else:\n",
    "                return \"invalid\",\"KINDLY TRY A NEW ONE\"\n",
    "        else:\n",
    "            return \"invalid\",\"KINDLY TRY A NEW ONE\"\n",
    "    else:\n",
    "        return \"invalid\",\"KINDLY TRY A NEW ONE\"\n",
    "            "
   ]
  },
  {
   "cell_type": "code",
   "execution_count": 2,
   "id": "e419efbc-2cdf-4177-8b9e-59edd6199c60",
   "metadata": {},
   "outputs": [
    {
     "data": {
      "text/plain": [
       "'valid'"
      ]
     },
     "execution_count": 2,
     "metadata": {},
     "output_type": "execute_result"
    }
   ],
   "source": [
    "pass_check(\"PWsk@%_2023\")"
   ]
  },
  {
   "cell_type": "code",
   "execution_count": 3,
   "id": "a8fc08cd-e3f8-446e-bd5e-10b818e624bd",
   "metadata": {},
   "outputs": [
    {
     "data": {
      "text/plain": [
       "('invalid', 'KINDLY TRY A NEW ONE')"
      ]
     },
     "execution_count": 3,
     "metadata": {},
     "output_type": "execute_result"
    }
   ],
   "source": [
    "pass_check(\"sk@%_2023\")"
   ]
  },
  {
   "cell_type": "code",
   "execution_count": 4,
   "id": "39210e88-b507-451d-89cd-e572901daacf",
   "metadata": {},
   "outputs": [
    {
     "data": {
      "text/plain": [
       "('invalid', 'KINDLY TRY A NEW ONE')"
      ]
     },
     "execution_count": 4,
     "metadata": {},
     "output_type": "execute_result"
    }
   ],
   "source": [
    "pass_check(\"PWsk@14_2023\")"
   ]
  },
  {
   "cell_type": "markdown",
   "id": "a0749f1e-a22c-449a-9bd3-f93b312842c9",
   "metadata": {},
   "source": [
    "***"
   ]
  },
  {
   "cell_type": "markdown",
   "id": "a677ab67-ad12-47e8-8b0c-25e460e265bf",
   "metadata": {},
   "source": [
    "Q2. Solve the below-given questions using at least one of the following:\n",
    "1. Lambda function\n",
    "2. Filter function\n",
    "3. map function\n",
    "4. List Comprehension\n",
    "*************\n",
    "********\n",
    "1. Check if the string starts with a particular letter\n",
    "\n",
    "2. Check if the string is numeric\n",
    "\n",
    "3. Sort a list of tuples having fruit names and their quantity. [(\"mango\",99),(\"orange\",80), (\"grapes\", 1000)]\n",
    "\n",
    "4. Find the squares of numbers from 1 to 10\n",
    "5. Find the cube root of numbers from 1 to 10\n",
    "6. Check if a given number is even\n",
    "7. Filter odd numbers from the given list.\n",
    "[1,2,3,4,5,6,7,8,9,10]\n",
    "\n",
    "8. Sort a list of integers into positive and negative integers lists.\n",
    "[1,2,3,4,5,6,-1,-2,-3,-4,-5,0]"
   ]
  },
  {
   "cell_type": "code",
   "execution_count": 6,
   "id": "a35a4c97-e08c-4aaf-84da-46f374b2e599",
   "metadata": {},
   "outputs": [],
   "source": [
    "a= lambda s : s.isnumeric()"
   ]
  },
  {
   "cell_type": "code",
   "execution_count": 7,
   "id": "de131f95-b1d9-4215-af8a-aa0f19d707c1",
   "metadata": {},
   "outputs": [
    {
     "data": {
      "text/plain": [
       "True"
      ]
     },
     "execution_count": 7,
     "metadata": {},
     "output_type": "execute_result"
    }
   ],
   "source": [
    "a('125')"
   ]
  },
  {
   "cell_type": "code",
   "execution_count": 8,
   "id": "58e299b1-a501-4a05-b3b2-85fe2c4c5e79",
   "metadata": {},
   "outputs": [
    {
     "data": {
      "text/plain": [
       "False"
      ]
     },
     "execution_count": 8,
     "metadata": {},
     "output_type": "execute_result"
    }
   ],
   "source": [
    "a('soumo')"
   ]
  },
  {
   "cell_type": "code",
   "execution_count": 9,
   "id": "4b977234-3bb8-48d7-b81f-20c93e4e921d",
   "metadata": {},
   "outputs": [
    {
     "data": {
      "text/plain": [
       "[1, 4, 9, 16, 25, 36, 49, 64, 81, 100]"
      ]
     },
     "execution_count": 9,
     "metadata": {},
     "output_type": "execute_result"
    }
   ],
   "source": [
    "##Find the squares of numbers from 1 to 10\n",
    "[i**2 for i in range (1,11)]"
   ]
  },
  {
   "cell_type": "code",
   "execution_count": 12,
   "id": "5cbadf94-83ca-4806-b534-dc6977ed8da2",
   "metadata": {},
   "outputs": [
    {
     "data": {
      "text/plain": [
       "[1.0,\n",
       " 1.2599210498948732,\n",
       " 1.4422495703074083,\n",
       " 1.5874010519681994,\n",
       " 1.7099759466766968,\n",
       " 1.8171205928321397,\n",
       " 1.912931182772389,\n",
       " 2.0,\n",
       " 2.080083823051904,\n",
       " 2.154434690031884]"
      ]
     },
     "execution_count": 12,
     "metadata": {},
     "output_type": "execute_result"
    }
   ],
   "source": [
    "## Find the cube root of numbers from 1 to 10\n",
    "[(i**(1/3)) for i in range (1,11)]"
   ]
  },
  {
   "cell_type": "code",
   "execution_count": 14,
   "id": "8ea5c607-2e9d-4887-9f81-713a60775e46",
   "metadata": {},
   "outputs": [],
   "source": [
    "##Check if a given number is even\n",
    "a=lambda x:x%2==0"
   ]
  },
  {
   "cell_type": "code",
   "execution_count": 15,
   "id": "6a73829d-31af-4d62-a1ec-1418a26edf38",
   "metadata": {},
   "outputs": [
    {
     "data": {
      "text/plain": [
       "True"
      ]
     },
     "execution_count": 15,
     "metadata": {},
     "output_type": "execute_result"
    }
   ],
   "source": [
    "a(2)"
   ]
  },
  {
   "cell_type": "code",
   "execution_count": 16,
   "id": "29f99c96-bb8f-4116-9885-69a81fe7dd9d",
   "metadata": {},
   "outputs": [
    {
     "data": {
      "text/plain": [
       "False"
      ]
     },
     "execution_count": 16,
     "metadata": {},
     "output_type": "execute_result"
    }
   ],
   "source": [
    "a(117)"
   ]
  },
  {
   "cell_type": "code",
   "execution_count": 17,
   "id": "f8d3fd94-a007-4433-b2f3-3b602c75fe6e",
   "metadata": {},
   "outputs": [
    {
     "data": {
      "text/plain": [
       "True"
      ]
     },
     "execution_count": 17,
     "metadata": {},
     "output_type": "execute_result"
    }
   ],
   "source": [
    "a(112)"
   ]
  },
  {
   "cell_type": "code",
   "execution_count": 18,
   "id": "17b3f60d-814b-4aba-b844-b0d7ec323723",
   "metadata": {},
   "outputs": [
    {
     "data": {
      "text/plain": [
       "[1, 3, 5, 7, 9]"
      ]
     },
     "execution_count": 18,
     "metadata": {},
     "output_type": "execute_result"
    }
   ],
   "source": [
    "#Filter odd numbers from the given list. [1,2,3,4,5,6,7,8,9,10]\n",
    "l=[1,2,3,4,5,6,7,8,9,10]\n",
    "list(filter(lambda x:x%2!=0,l))"
   ]
  },
  {
   "cell_type": "code",
   "execution_count": 28,
   "id": "dac58eb7-0f1e-4f23-9c5b-d01525aca7ff",
   "metadata": {},
   "outputs": [
    {
     "name": "stdout",
     "output_type": "stream",
     "text": [
      "positive list : [0, 1, 2, 3, 4, 5, 6]\n",
      "negetive list : [-5, -4, -3, -2, -1]\n"
     ]
    }
   ],
   "source": [
    "##Sort a list of integers into positive and negative integers lists. [1,2,3,4,5,6,-1,-2,-3,-4,-5,0]\n",
    "l1=[1,2,3,4,5,6,-1,-2,-3,-4,-5,0]\n",
    "negetive=list(filter(lambda x:x<0,l1))\n",
    "positive=list(filter(lambda x:x>=0,l1))\n",
    "print(\"positive list :\",sorted(positive))\n",
    "print(\"negetive list :\",sorted(negetive))"
   ]
  },
  {
   "cell_type": "code",
   "execution_count": 29,
   "id": "301c6beb-a811-47dd-b9b9-c5c35563e4fd",
   "metadata": {},
   "outputs": [
    {
     "name": "stdout",
     "output_type": "stream",
     "text": [
      "('orange', 80)\n",
      "('mango', 99)\n",
      "('grapes', 1000)\n"
     ]
    }
   ],
   "source": [
    "##Sort a list of tuples having fruit names and their quantity. [(\"mango\",99),(\"orange\",80), (\"grapes\", 1000)]\n",
    "\n",
    "fruits = [(\"mango\", 99), (\"orange\", 80), (\"grapes\", 1000)]\n",
    "\n",
    "\n",
    "sorted_fruits = sorted(fruits, key=lambda x: x[1])\n",
    "\n",
    "\n",
    "for fruit in sorted_fruits:\n",
    "    print(fruit)\n"
   ]
  },
  {
   "cell_type": "code",
   "execution_count": null,
   "id": "b2b2216c-2f8f-4f14-9c2b-7faabb50c107",
   "metadata": {},
   "outputs": [],
   "source": []
  }
 ],
 "metadata": {
  "kernelspec": {
   "display_name": "Python 3 (ipykernel)",
   "language": "python",
   "name": "python3"
  },
  "language_info": {
   "codemirror_mode": {
    "name": "ipython",
    "version": 3
   },
   "file_extension": ".py",
   "mimetype": "text/x-python",
   "name": "python",
   "nbconvert_exporter": "python",
   "pygments_lexer": "ipython3",
   "version": "3.10.8"
  }
 },
 "nbformat": 4,
 "nbformat_minor": 5
}
