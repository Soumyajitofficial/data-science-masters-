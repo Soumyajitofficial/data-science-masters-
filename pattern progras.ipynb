{
 "cells": [
  {
   "cell_type": "markdown",
   "id": "08ec29ac-d841-43eb-bf28-b317deb45093",
   "metadata": {},
   "source": [
    "## Question\n",
    "Program to print half pyramid"
   ]
  },
  {
   "cell_type": "code",
   "execution_count": 10,
   "id": "55084ab3-4061-4138-ac5f-dfacf67f46a6",
   "metadata": {},
   "outputs": [
    {
     "name": "stdin",
     "output_type": "stream",
     "text": [
      "Enter the no. of rows :  10\n"
     ]
    },
    {
     "name": "stdout",
     "output_type": "stream",
     "text": [
      "*\n",
      "\n",
      "**\n",
      "\n",
      "***\n",
      "\n",
      "****\n",
      "\n",
      "*****\n",
      "\n",
      "******\n",
      "\n",
      "*******\n",
      "\n",
      "********\n",
      "\n",
      "*********\n",
      "\n",
      "**********\n",
      "\n"
     ]
    }
   ],
   "source": [
    "rows=int(input(\"Enter the no. of rows : \"))\n",
    "for i in range(rows):\n",
    "    for j in range(i+1):\n",
    "        print(\"*\",end=\"\")\n",
    "    print(\"\\n\")"
   ]
  },
  {
   "cell_type": "markdown",
   "id": "abd7c525-aded-4769-8af0-eb54d7896a16",
   "metadata": {},
   "source": [
    "## Program to print half pyramid a using numbers\n"
   ]
  },
  {
   "cell_type": "code",
   "execution_count": 13,
   "id": "327ff371-78c4-48f6-84de-cfe927c340ae",
   "metadata": {},
   "outputs": [
    {
     "name": "stdin",
     "output_type": "stream",
     "text": [
      "Enter the No. of rows :  5\n"
     ]
    },
    {
     "name": "stdout",
     "output_type": "stream",
     "text": [
      "1 \n",
      "\n",
      "1 2 \n",
      "\n",
      "1 2 3 \n",
      "\n",
      "1 2 3 4 \n",
      "\n",
      "1 2 3 4 5 \n",
      "\n"
     ]
    }
   ],
   "source": [
    "rows=int(input(\"Enter the No. of rows : \"))\n",
    "for i in range(rows):\n",
    "    for j in range(i+1):\n",
    "        print(j+1,end=\" \")\n",
    "    print(\"\\n\")\n",
    "    "
   ]
  },
  {
   "cell_type": "markdown",
   "id": "a71e3555-9ab9-44dd-b446-3908657f6005",
   "metadata": {},
   "source": [
    "## Question\n",
    "Inverted half pyramid using \"*\""
   ]
  },
  {
   "cell_type": "code",
   "execution_count": 17,
   "id": "c830086c-aa0a-47af-85f6-ed4c3695307b",
   "metadata": {},
   "outputs": [
    {
     "name": "stdin",
     "output_type": "stream",
     "text": [
      "Enter the Size Of the Desired Ptramid :   5\n"
     ]
    },
    {
     "name": "stdout",
     "output_type": "stream",
     "text": [
      "* * * * * \n",
      "\n",
      "* * * * \n",
      "\n",
      "* * * \n",
      "\n",
      "* * \n",
      "\n",
      "* \n",
      "\n"
     ]
    }
   ],
   "source": [
    "rows=int(input(\"Enter the Size Of the Desired Ptramid :  \"))\n",
    "for i in range(rows,0,-1):\n",
    "    for j in range(i):\n",
    "        print(\"*\",end=\" \")\n",
    "    print(\"\\n\")\n"
   ]
  },
  {
   "cell_type": "code",
   "execution_count": null,
   "id": "2643fa46-254a-44dd-bb9e-56a748f459a3",
   "metadata": {},
   "outputs": [],
   "source": []
  },
  {
   "cell_type": "code",
   "execution_count": 12,
   "id": "259f1d75-2006-44d7-91fa-c9348eacc1f4",
   "metadata": {},
   "outputs": [
    {
     "name": "stdin",
     "output_type": "stream",
     "text": [
      "Enter the Size Of the Desired Ptramid :   5\n"
     ]
    },
    {
     "name": "stdout",
     "output_type": "stream",
     "text": [
      "1 2 3 4 5 \n",
      "1 2 3 4 \n",
      "1 2 3 \n",
      "1 2 \n",
      "1 \n"
     ]
    }
   ],
   "source": [
    "rows=int(input(\"Enter the Size Of the Desired Ptramid :  \"))\n",
    "for i in range(rows,0,-1):\n",
    "    for j in range(i):\n",
    "        print(j+1,end=\" \")\n",
    "    print()"
   ]
  },
  {
   "cell_type": "markdown",
   "id": "f2f789c7-7193-4a15-b5ff-218a8076740a",
   "metadata": {},
   "source": [
    "## Question\n",
    " Program to print full pyramid using *"
   ]
  },
  {
   "cell_type": "code",
   "execution_count": 17,
   "id": "1d2477a7-1834-4a0a-93ac-66478e76d05a",
   "metadata": {},
   "outputs": [
    {
     "name": "stdin",
     "output_type": "stream",
     "text": [
      "Enter number of rows:  5\n"
     ]
    },
    {
     "name": "stdout",
     "output_type": "stream",
     "text": [
      "        * \n",
      "      * * * \n",
      "    * * * * * \n",
      "  * * * * * * * \n",
      "* * * * * * * * * \n"
     ]
    }
   ],
   "source": [
    "rows = int(input(\"Enter number of rows: \"))\n",
    "\n",
    "k = 0\n",
    "\n",
    "for i in range(1, rows+1):\n",
    "    for space in range(1, (rows-i)+1):\n",
    "        print(end=\"  \")\n",
    "   \n",
    "    while k!=(2*i-1):\n",
    "        print(\"* \", end=\"\")\n",
    "        k += 1\n",
    "   \n",
    "    k = 0\n",
    "    print()\n",
    "    "
   ]
  },
  {
   "cell_type": "markdown",
   "id": "09a3ada5-a28d-41df-abf3-e862b63a7dcd",
   "metadata": {},
   "source": [
    "## Question\n",
    "Full Pyramid of Numbers"
   ]
  },
  {
   "cell_type": "code",
   "execution_count": 24,
   "id": "c6c7f317-83e6-4373-90db-065fcbcd1909",
   "metadata": {},
   "outputs": [
    {
     "name": "stdin",
     "output_type": "stream",
     "text": [
      "Enter number of rows:  5\n"
     ]
    },
    {
     "name": "stdout",
     "output_type": "stream",
     "text": [
      "        0 \n",
      "      0 1 2 \n",
      "    0 1 2 3 4 \n",
      "  0 1 2 3 4 5 6 \n",
      "0 1 2 3 4 5 6 7 8 \n"
     ]
    }
   ],
   "source": [
    "rows = int(input(\"Enter number of rows: \"))\n",
    "\n",
    "k = 0\n",
    "\n",
    "for i in range(1, rows+1):\n",
    "    for space in range(1, (rows-i)+1):\n",
    "        print(end=\"  \")\n",
    "   \n",
    "    while k!=(2*i-1):\n",
    "        print(k, end=\" \")\n",
    "        k += 1\n",
    "   \n",
    "    k = 0\n",
    "    print()\n",
    "    "
   ]
  },
  {
   "cell_type": "markdown",
   "id": "2b3d71c6-c045-4a08-83ab-164ca5bc10e2",
   "metadata": {},
   "source": [
    "## Question\n",
    "Floyd's Triangle"
   ]
  },
  {
   "cell_type": "code",
   "execution_count": 32,
   "id": "090b1d23-3acb-48dd-bda1-c6f9e61a07b1",
   "metadata": {},
   "outputs": [
    {
     "name": "stdin",
     "output_type": "stream",
     "text": [
      "Enter the no. of rows:  5\n"
     ]
    },
    {
     "name": "stdout",
     "output_type": "stream",
     "text": [
      "0 \n",
      "1 2 \n",
      "3 4 5 \n",
      "6 7 8 9 \n"
     ]
    }
   ],
   "source": [
    "rows=int(input(\"Enter the no. of rows: \"))\n",
    "number=0\n",
    "for i in range(1,rows):\n",
    "    for j in range(1,i+1):\n",
    "        print(number, end=\" \")\n",
    "        number += 1\n",
    "    print()"
   ]
  },
  {
   "cell_type": "code",
   "execution_count": null,
   "id": "23d6f054-ffce-4156-b613-6dd0cf2eada6",
   "metadata": {},
   "outputs": [],
   "source": []
  }
 ],
 "metadata": {
  "kernelspec": {
   "display_name": "Python 3 (ipykernel)",
   "language": "python",
   "name": "python3"
  },
  "language_info": {
   "codemirror_mode": {
    "name": "ipython",
    "version": 3
   },
   "file_extension": ".py",
   "mimetype": "text/x-python",
   "name": "python",
   "nbconvert_exporter": "python",
   "pygments_lexer": "ipython3",
   "version": "3.10.8"
  }
 },
 "nbformat": 4,
 "nbformat_minor": 5
}
