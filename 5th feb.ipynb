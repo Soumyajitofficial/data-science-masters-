{
 "cells": [
  {
   "cell_type": "markdown",
   "id": "788b8957-3d47-4861-a7d0-06c29bee1a13",
   "metadata": {},
   "source": [
    "Q1. Explain Class and Object with respect to Object-Oriented Programming. Give a suitable example."
   ]
  },
  {
   "cell_type": "markdown",
   "id": "66d05786-3268-403d-ba4c-6367a9a9b567",
   "metadata": {},
   "source": [
    "*ANSWER*\n",
    "\n"
   ]
  },
  {
   "cell_type": "markdown",
   "id": "110ee2d8-1a3a-43c8-99e6-cef93ce656b4",
   "metadata": {},
   "source": [
    "A calss is a user defined layout or user defined blueprint of an object that defines a specific kind of object will look like .It helps us to keep the data together and making the code reuseable instead of developing it fcrom scratch."
   ]
  },
  {
   "cell_type": "markdown",
   "id": "fdee1695-e392-40ec-b2f9-44a1c81ee325",
   "metadata": {},
   "source": [
    "An object is the variable , which contains data and methods workig on the data."
   ]
  },
  {
   "cell_type": "code",
   "execution_count": 1,
   "id": "5e1f23a8-c444-48f8-a14b-1eabfbbb8a15",
   "metadata": {},
   "outputs": [],
   "source": [
    "class test():\n",
    "    pass"
   ]
  },
  {
   "cell_type": "code",
   "execution_count": 2,
   "id": "428cf909-f0ba-4b33-87c0-689d9cb3b4ed",
   "metadata": {},
   "outputs": [],
   "source": [
    "a=test()"
   ]
  },
  {
   "cell_type": "markdown",
   "id": "f87a39db-d23f-45a0-bbff-92d013ca4560",
   "metadata": {},
   "source": [
    "here we defned a class named as test\n",
    "and an object named \"a\"\n",
    "\n",
    "***"
   ]
  },
  {
   "cell_type": "markdown",
   "id": "4fc48f4f-d41d-4810-b8b0-7f8e30fab2a9",
   "metadata": {},
   "source": [
    "Q2. Name the four pillars of OOPs."
   ]
  },
  {
   "cell_type": "markdown",
   "id": "b4191a2b-5f3f-49b2-ad17-77ed6e13bf9a",
   "metadata": {},
   "source": [
    "*ANSWERS*\n",
    "\n",
    "\n",
    "The Four Pillars of Object Oriented Programming\n",
    "\n",
    "1) *Abstraction*- abstraction is the concept of wrapping up complex actions in simple verbs.\n",
    "2) *Encapsulation*- As much as you can, keep state and logic internal. This can mean have as few attr readers as possible, or as few instance vars as possible\n",
    "3) *Inheritance*- Classes can have parent classes. Child classes will inherit all of the behavior and attributes of the parent class. Child classes can then choose to overwrite some of those as necessary.\n",
    "4) *Polymorphism*- the condition of occurring in several different forms."
   ]
  },
  {
   "cell_type": "markdown",
   "id": "dc91646f-6424-4c19-b7ff-58ce2ed6bec7",
   "metadata": {},
   "source": [
    "***"
   ]
  },
  {
   "cell_type": "markdown",
   "id": "7ba4f2b2-86c5-414f-bf4c-08473320e4ff",
   "metadata": {},
   "source": [
    "Explain why the __init__() function is used. Give a suitable example."
   ]
  },
  {
   "cell_type": "markdown",
   "id": "08be5b23-2e71-4f01-a651-7d31a46eb561",
   "metadata": {},
   "source": [
    "*ANSWER*\n",
    "\n",
    "Constructors are generally used for instantiating an object. The task of constructors is to initialize(assign values) to the data members of the class when an object of the class is created. In Python the __init__() method is called the constructor and is always called when an object is created.\n",
    "\n"
   ]
  },
  {
   "cell_type": "code",
   "execution_count": 20,
   "id": "f2c1dccf-59b8-456e-965b-74c8ad606675",
   "metadata": {},
   "outputs": [],
   "source": [
    "class pwskills:\n",
    "    \n",
    "    def __init__(soumo,phone,email,id1):\n",
    "        \n",
    "        soumo.phone=phone\n",
    "        soumo.email=email\n",
    "        soumo.id1=id1\n",
    "        \n",
    "    def return_details(soumo):\n",
    "        return soumo.phone,soumo.email,soumo.id1\n",
    "        "
   ]
  },
  {
   "cell_type": "code",
   "execution_count": 21,
   "id": "724166e7-de9e-48c4-8569-b9c11d21fa81",
   "metadata": {},
   "outputs": [],
   "source": [
    "soumo=pwskills(98653230,\"soumo.biswas12@gmmail.com\",128)"
   ]
  },
  {
   "cell_type": "code",
   "execution_count": 18,
   "id": "d1c55ef5-5d62-4de0-b946-904fca21980e",
   "metadata": {},
   "outputs": [
    {
     "data": {
      "text/plain": [
       "98653230"
      ]
     },
     "execution_count": 18,
     "metadata": {},
     "output_type": "execute_result"
    }
   ],
   "source": [
    "soumo.phone"
   ]
  },
  {
   "cell_type": "code",
   "execution_count": 14,
   "id": "b8b3c467-f63a-4896-829b-6975806bdc44",
   "metadata": {},
   "outputs": [
    {
     "data": {
      "text/plain": [
       "'soumo.biswas12@gmmail.com'"
      ]
     },
     "execution_count": 14,
     "metadata": {},
     "output_type": "execute_result"
    }
   ],
   "source": [
    "soumo.email"
   ]
  },
  {
   "cell_type": "code",
   "execution_count": 15,
   "id": "3fe32567-6dbc-4059-bc95-ce6eac0cd94e",
   "metadata": {},
   "outputs": [
    {
     "data": {
      "text/plain": [
       "128"
      ]
     },
     "execution_count": 15,
     "metadata": {},
     "output_type": "execute_result"
    }
   ],
   "source": [
    "soumo.id1"
   ]
  },
  {
   "cell_type": "code",
   "execution_count": 19,
   "id": "1d5c315e-a648-4099-ba85-5f7867b4803d",
   "metadata": {},
   "outputs": [
    {
     "data": {
      "text/plain": [
       "(98653230, 'soumo.biswas12@gmmail.com', 128)"
      ]
     },
     "execution_count": 19,
     "metadata": {},
     "output_type": "execute_result"
    }
   ],
   "source": [
    "soumo.return_details()"
   ]
  },
  {
   "cell_type": "markdown",
   "id": "f8abaadf-b4ed-473f-bfbc-3a9bb39fee8c",
   "metadata": {},
   "source": [
    "***"
   ]
  },
  {
   "cell_type": "markdown",
   "id": "74d1640b-d8d1-464a-b3d4-a0289304e4de",
   "metadata": {},
   "source": [
    "Q4. Why self is used in OOPs?"
   ]
  },
  {
   "cell_type": "markdown",
   "id": "ec3e0a4e-70f3-4a51-b3d5-adac1b21c248",
   "metadata": {},
   "source": [
    "*SELF* is udes as a pointer in OOPS "
   ]
  },
  {
   "cell_type": "markdown",
   "id": "35c8950c-3350-410b-93f3-087efe37ad20",
   "metadata": {},
   "source": [
    "***"
   ]
  },
  {
   "cell_type": "markdown",
   "id": "7597a5d4-35d8-428c-bbca-bc9c3cbab2eb",
   "metadata": {},
   "source": [
    "Q5. What is inheritance? Give an example for each type of inheritance."
   ]
  },
  {
   "cell_type": "markdown",
   "id": "0593f84f-87d9-4e91-ba94-40bd03fbf369",
   "metadata": {},
   "source": [
    "Inheritance is the ability of one class to inherit another class. Inheritance provides reusability of code and allows us to create complex and real-world-like relationships among objects."
   ]
  },
  {
   "cell_type": "code",
   "execution_count": 23,
   "id": "0ddf7bc5-32f1-4f3c-8ab4-8a991320f535",
   "metadata": {},
   "outputs": [
    {
     "name": "stdout",
     "output_type": "stream",
     "text": [
      "soumo\n"
     ]
    }
   ],
   "source": [
    "class ParentClass:\n",
    "    string = \"soumo\"\n",
    "\n",
    "    def display(self):\n",
    "        return self.string\n",
    "\n",
    "class ChildClass(ParentClass):\n",
    "    pass\n",
    "\n",
    "child = ChildClass()\n",
    "\n",
    "print(child.display())"
   ]
  },
  {
   "cell_type": "code",
   "execution_count": null,
   "id": "a0984706-78d9-4f0f-835c-0aec858e58c0",
   "metadata": {},
   "outputs": [],
   "source": []
  }
 ],
 "metadata": {
  "kernelspec": {
   "display_name": "Python 3 (ipykernel)",
   "language": "python",
   "name": "python3"
  },
  "language_info": {
   "codemirror_mode": {
    "name": "ipython",
    "version": 3
   },
   "file_extension": ".py",
   "mimetype": "text/x-python",
   "name": "python",
   "nbconvert_exporter": "python",
   "pygments_lexer": "ipython3",
   "version": "3.10.8"
  }
 },
 "nbformat": 4,
 "nbformat_minor": 5
}
