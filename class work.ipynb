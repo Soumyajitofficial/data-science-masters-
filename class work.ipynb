{
 "cells": [
  {
   "cell_type": "markdown",
   "id": "85fde68f-d985-4e5e-a8bb-72f5da339800",
   "metadata": {},
   "source": [
    "a=10"
   ]
  },
  {
   "cell_type": "code",
   "execution_count": 2,
   "id": "d6e34050-47a5-401c-b3ac-8fd6b1fdba6b",
   "metadata": {},
   "outputs": [],
   "source": [
    "a='c'"
   ]
  },
  {
   "cell_type": "code",
   "execution_count": 3,
   "id": "592d5512-1a70-4047-9bce-28f53e670593",
   "metadata": {},
   "outputs": [
    {
     "data": {
      "text/plain": [
       "str"
      ]
     },
     "execution_count": 3,
     "metadata": {},
     "output_type": "execute_result"
    }
   ],
   "source": [
    "type(a)"
   ]
  },
  {
   "cell_type": "code",
   "execution_count": 4,
   "id": "b618fbe3-9e35-402d-8cd3-517fc556c7f6",
   "metadata": {},
   "outputs": [
    {
     "name": "stdout",
     "output_type": "stream",
     "text": [
      "hello world\n"
     ]
    }
   ],
   "source": [
    "print('hello world')"
   ]
  },
  {
   "cell_type": "code",
   "execution_count": 5,
   "id": "eb8fac15-dba6-48cd-9be8-7bf924f352b5",
   "metadata": {},
   "outputs": [
    {
     "name": "stdout",
     "output_type": "stream",
     "text": [
      "123\n"
     ]
    }
   ],
   "source": [
    "print(123)"
   ]
  },
  {
   "cell_type": "code",
   "execution_count": 7,
   "id": "592d2c41-1ca1-4320-a290-adc95bb3b874",
   "metadata": {},
   "outputs": [
    {
     "name": "stdout",
     "output_type": "stream",
     "text": [
      "my age is: 32\n"
     ]
    }
   ],
   "source": [
    "age=32\n",
    "print('my age is:',age)"
   ]
  },
  {
   "cell_type": "code",
   "execution_count": 8,
   "id": "5d9c08e5-12ed-46ee-a420-8e4f6c0af12e",
   "metadata": {},
   "outputs": [
    {
     "name": "stdout",
     "output_type": "stream",
     "text": [
      "mt age is : 32\n"
     ]
    }
   ],
   "source": [
    "##  f string\n",
    "print(f\"mt age is : {age}\")"
   ]
  },
  {
   "cell_type": "code",
   "execution_count": 10,
   "id": "ace469df-7e2e-49c0-977d-769bc04482f7",
   "metadata": {},
   "outputs": [
    {
     "name": "stdout",
     "output_type": "stream",
     "text": [
      "My age is 25 and my name is soumo\n"
     ]
    }
   ],
   "source": [
    "## format ()\n",
    "name=\"soumo\"\n",
    "age=25\n",
    "print(\"My age is {} and my name is {}\".format(age,name))"
   ]
  },
  {
   "cell_type": "code",
   "execution_count": 12,
   "id": "b766231a-39fb-4f92-9922-3c4e709c316e",
   "metadata": {},
   "outputs": [
    {
     "name": "stdout",
     "output_type": "stream",
     "text": [
      "My age is 25 and my name is soumo\n"
     ]
    }
   ],
   "source": [
    "##placeholder\n",
    "print(\"My age is {firstage} and my name is {firstname}\".format(firstage=age,firstname=name))"
   ]
  },
  {
   "cell_type": "code",
   "execution_count": 16,
   "id": "9360ed06-599a-438a-a21f-18798bd8b75d",
   "metadata": {},
   "outputs": [
    {
     "name": "stdout",
     "output_type": "stream",
     "text": [
      "My name is soumo and my age is 25 and i have completed M.Sc Physics\n"
     ]
    }
   ],
   "source": [
    "name=\"soumo\"\n",
    "age=25\n",
    "degree=\"M.Sc Physics\"\n",
    "\n",
    "print(\"My name is {} and my age is {} and i have completed {}\".format(name,age,degree))"
   ]
  },
  {
   "cell_type": "code",
   "execution_count": 17,
   "id": "3ace1bef-a9e3-47e0-ac53-a5f8c5e81d54",
   "metadata": {},
   "outputs": [
    {
     "name": "stdout",
     "output_type": "stream",
     "text": [
      "My name is soumo and my age is 25 and i have completed M.Sc Physics\n"
     ]
    }
   ],
   "source": [
    "print(\"My name is {firstname} and my age is {firstage} and i have completed {firstdegree}\".format(firstname=name,firstage=age,firstdegree=degree))"
   ]
  },
  {
   "cell_type": "markdown",
   "id": "5abe991f-a7f6-45af-a149-b9fbabd2367a",
   "metadata": {},
   "source": [
    "## control flow \n",
    "## decision making statement"
   ]
  },
  {
   "cell_type": "code",
   "execution_count": 20,
   "id": "ec33c38c-934e-4e7e-9785-5f53fc263647",
   "metadata": {},
   "outputs": [
    {
     "name": "stdout",
     "output_type": "stream",
     "text": [
      "you are elegible to vote\n"
     ]
    }
   ],
   "source": [
    "## if statement\n",
    "age=18\n",
    "##we have three operations ==,>=,<=\n",
    "if age >=18:\n",
    "    print(\"you are elegible to vote\")"
   ]
  },
  {
   "cell_type": "code",
   "execution_count": 28,
   "id": "7c087e80-a824-40f3-ba7e-cb7198d6b8c1",
   "metadata": {},
   "outputs": [
    {
     "name": "stdout",
     "output_type": "stream",
     "text": [
      "you are eligible to vote\n"
     ]
    }
   ],
   "source": [
    "## if statement\n",
    "age=20\n",
    "##we have three operations ==,>=,<=\n",
    "if age <18:\n",
    "    print(\"you are not elegible to vote\")\n",
    "if age >= 18:\n",
    "        print(\"you are eligible to vote\")\n",
    "        "
   ]
  },
  {
   "cell_type": "code",
   "execution_count": 29,
   "id": "5f2a293b-fa3f-470c-a34b-c30bc629fb52",
   "metadata": {},
   "outputs": [
    {
     "name": "stdin",
     "output_type": "stream",
     "text": [
      "enter the name soumo biswas\n"
     ]
    }
   ],
   "source": [
    "name=input(\"enter the name\")"
   ]
  },
  {
   "cell_type": "code",
   "execution_count": 30,
   "id": "d9016584-1632-4f04-9b09-4adf07114063",
   "metadata": {},
   "outputs": [
    {
     "data": {
      "text/plain": [
       "'soumo biswas'"
      ]
     },
     "execution_count": 30,
     "metadata": {},
     "output_type": "execute_result"
    }
   ],
   "source": [
    "name"
   ]
  },
  {
   "cell_type": "code",
   "execution_count": 31,
   "id": "d6bd8f5d-195a-4e4a-8547-e4c9ac9f5b64",
   "metadata": {},
   "outputs": [
    {
     "data": {
      "text/plain": [
       "method"
      ]
     },
     "execution_count": 31,
     "metadata": {},
     "output_type": "execute_result"
    }
   ],
   "source": [
    "type(input)"
   ]
  },
  {
   "cell_type": "code",
   "execution_count": 33,
   "id": "5fb86553-3487-4cc1-b1c2-8536b00cb64a",
   "metadata": {},
   "outputs": [
    {
     "name": "stdin",
     "output_type": "stream",
     "text": [
      "enter the age 25\n"
     ]
    }
   ],
   "source": [
    "age=int(input(\"enter the age\"))"
   ]
  },
  {
   "cell_type": "markdown",
   "id": "3058c093-1bca-4660-8d8a-8e50b1a2d216",
   "metadata": {},
   "source": [
    "age"
   ]
  },
  {
   "cell_type": "code",
   "execution_count": 35,
   "id": "fe3585ac-47e1-4dd0-9e5e-b18602e1fa41",
   "metadata": {},
   "outputs": [
    {
     "data": {
      "text/plain": [
       "int"
      ]
     },
     "execution_count": 35,
     "metadata": {},
     "output_type": "execute_result"
    }
   ],
   "source": [
    "type(age)"
   ]
  },
  {
   "cell_type": "markdown",
   "id": "bc6e472d-f7c9-4efa-a22f-3a392131a505",
   "metadata": {},
   "source": [
    "# Task\n",
    "# take a input of age \n",
    "# check weather age >= 18 and age <=45\n",
    "# display a message you are young blood\n",
    "\n"
   ]
  },
  {
   "cell_type": "code",
   "execution_count": 43,
   "id": "a57a3fc3-e49d-4bac-86f6-797f60351162",
   "metadata": {},
   "outputs": [
    {
     "name": "stdin",
     "output_type": "stream",
     "text": [
      "enter your age 22\n"
     ]
    },
    {
     "name": "stdout",
     "output_type": "stream",
     "text": [
      "young blood\n"
     ]
    }
   ],
   "source": [
    "## solution\n",
    "## we have to do the type typecasting\n",
    "age=int(input(\"enter your age\"))\n",
    "if age >= 18 and age <= 45:\n",
    "        print(\"young blood\")\n",
    "    \n"
   ]
  },
  {
   "cell_type": "code",
   "execution_count": 51,
   "id": "a79c2989-a401-4570-8de3-8da7d9ddc72a",
   "metadata": {},
   "outputs": [
    {
     "name": "stdin",
     "output_type": "stream",
     "text": [
      "enter your age 22\n"
     ]
    },
    {
     "name": "stdout",
     "output_type": "stream",
     "text": [
      "young blood\n"
     ]
    }
   ],
   "source": [
    "## solution\n",
    "## we have to do the type typecasting\n",
    "age=int(input(\"enter your age\"))\n",
    "if age >= 18 and age <= 45:\n",
    "        print(\"young blood\") \n"
   ]
  },
  {
   "cell_type": "code",
   "execution_count": 52,
   "id": "4737e4d4-8c97-49ba-b277-a69b3ac7b1aa",
   "metadata": {},
   "outputs": [
    {
     "name": "stdin",
     "output_type": "stream",
     "text": [
      "enter your age 55\n"
     ]
    }
   ],
   "source": [
    "## solution\n",
    "## we have to do the type typecasting\n",
    "age=int(input(\"enter your age\"))\n",
    "if age >= 18 and age <= 45:\n",
    "        print(\"young blood\") \n"
   ]
  },
  {
   "cell_type": "code",
   "execution_count": 53,
   "id": "8713627d-05b7-4bd5-bf06-ea0e2787dcf2",
   "metadata": {},
   "outputs": [
    {
     "name": "stdin",
     "output_type": "stream",
     "text": [
      "enter your age 14\n"
     ]
    },
    {
     "name": "stdout",
     "output_type": "stream",
     "text": [
      "yor are not an young blood\n"
     ]
    }
   ],
   "source": [
    "## nothing is getting printed\n",
    "\n",
    "## we use if else statement\n",
    "\n",
    "## solution\n",
    "## we have to do the type typecasting\n",
    "age=int(input(\"enter your age\"))\n",
    "if age >= 18 and age <= 45:\n",
    "        print(\"young blood\") \n",
    "else:\n",
    "    print(\"yor are not an young blood\")"
   ]
  },
  {
   "cell_type": "markdown",
   "id": "a58c1288-9eed-4a9a-92c3-6303725c58b9",
   "metadata": {},
   "source": [
    "## QUESTION \n",
    "we have a 10% discount on any product >= RS 1000\n",
    "product <= 1000, we get 30% discount\n",
    "print the product price after the discount"
   ]
  },
  {
   "cell_type": "code",
   "execution_count": 60,
   "id": "4266f3e4-1ad3-438e-9c48-48e302b4f99a",
   "metadata": {},
   "outputs": [
    {
     "name": "stdin",
     "output_type": "stream",
     "text": [
      "ENTER THE PRICE OF THE PRODUCT 5000\n"
     ]
    },
    {
     "name": "stdout",
     "output_type": "stream",
     "text": [
      "the final price : 4000.0\n"
     ]
    }
   ],
   "source": [
    "\n",
    "amt = int(input(\"ENTER THE PRICE OF THE PRODUCT\"))\n",
    "if amt>= 1000:\n",
    "    finalprice= (amt-(0.2*amt))\n",
    "else:\n",
    "    finalprice=(amt-(0.3*amt))\n",
    "print(\"the final price :\",finalprice)  \n",
    "    "
   ]
  },
  {
   "cell_type": "code",
   "execution_count": 59,
   "id": "7757e224-d74f-4a43-81b5-f294ec788b1f",
   "metadata": {},
   "outputs": [
    {
     "name": "stdin",
     "output_type": "stream",
     "text": [
      "ENTER THE PRICE OF THE PRODUCT 5000\n"
     ]
    },
    {
     "name": "stdout",
     "output_type": "stream",
     "text": [
      "the final price 4000.0 \n"
     ]
    }
   ],
   "source": [
    "amt = int(input(\"ENTER THE PRICE OF THE PRODUCT\"))\n",
    "if amt>= 1000:\n",
    "    print(\"the final price {} \".format(amt*0.8)) \n",
    "else:\n",
    "    print(\"the final price {} \".format(amt*0.7))    "
   ]
  },
  {
   "cell_type": "markdown",
   "id": "b4dfd81f-0bf2-4707-aa5e-af7f01e3e08a",
   "metadata": {},
   "source": [
    "## QUESTION \n",
    "we have a 10% discount on any product >= RS 1000\n",
    "input product price\n",
    "if product price > 3000 , 20% discount\n",
    "if product price is in between 2000 and 3000 , 30% off\n",
    "if product price is less than 2000, 40% off\n",
    "\n",
    "then print the finall price "
   ]
  },
  {
   "cell_type": "code",
   "execution_count": 3,
   "id": "ad37e6aa-0f1a-4a6d-9624-f89499db862d",
   "metadata": {},
   "outputs": [
    {
     "name": "stdin",
     "output_type": "stream",
     "text": [
      "ENTER THE PRICE OF THE PRODUCT : 200\n"
     ]
    },
    {
     "name": "stdout",
     "output_type": "stream",
     "text": [
      "the final price is 120.0 \n"
     ]
    }
   ],
   "source": [
    "amt=int(input(\"ENTER THE PRICE OF THE PRODUCT :\"))\n",
    "\n",
    "if amt > 3000:\n",
    "    print(\"the final price is {} \".format(amt*0.8))\n",
    "elif amt>=2000 and amt<= 3000:\n",
    "    print(\"the final price is {} \".format(amt*0.7))\n",
    "else:\n",
    "    print(\"the final price is {} \".format(amt*0.6))\n",
    "        \n",
    "        "
   ]
  },
  {
   "cell_type": "code",
   "execution_count": 6,
   "id": "054eb7bf-adde-4f60-bea5-f21e7c452afb",
   "metadata": {},
   "outputs": [
    {
     "name": "stdin",
     "output_type": "stream",
     "text": [
      "ENTER THE PRICE OF THE PRODUCT : 0\n"
     ]
    },
    {
     "name": "stdout",
     "output_type": "stream",
     "text": [
      "the final price is 0.0 \n"
     ]
    }
   ],
   "source": [
    "amt=int(input(\"ENTER THE PRICE OF THE PRODUCT :\"))\n",
    "\n",
    "if amt > 3000:\n",
    "    print(\"the final price is {} \".format(amt*0.8))\n",
    "elif amt>=2000 and amt<= 3000:\n",
    "    print(\"the final price is {} \".format(amt*0.7))\n",
    "else:\n",
    "    print(\"the final price is {} \".format(amt*0.6))\n",
    "        \n",
    "        "
   ]
  },
  {
   "cell_type": "code",
   "execution_count": 9,
   "id": "3a832b85-bf4f-488f-baca-7ca35fc1ad7f",
   "metadata": {},
   "outputs": [
    {
     "name": "stdin",
     "output_type": "stream",
     "text": [
      "ENTER THE PRICE OF THE PRODUCT : 500\n"
     ]
    },
    {
     "name": "stdout",
     "output_type": "stream",
     "text": [
      "the final price is 300.0 \n"
     ]
    }
   ],
   "source": [
    "amt=int(input(\"ENTER THE PRICE OF THE PRODUCT :\"))\n",
    "\n",
    "if amt > 3000:\n",
    "    print(\"the final price is {} \".format(amt*0.8))\n",
    "elif amt>=2000 and amt<= 3000:\n",
    "    print(\"the final price is {} \".format(amt*0.7))\n",
    "elif amt <2000:\n",
    "    print(\"the final price is {} \".format(amt*0.6))\n",
    "        \n",
    "        "
   ]
  },
  {
   "cell_type": "markdown",
   "id": "c617acfd-4806-404c-90fe-2a4cf1b3f957",
   "metadata": {},
   "source": [
    "## QUESTION \n",
    "we have a 10% discount on any product >= RS 1000\n",
    "input product price\n",
    "if product price > 3000 , 20% discount\n",
    "if product price is in between 2000 and 3000 , 30% off\n",
    "if product price is less than 2000, 40% off\n",
    "if the price is 2999 then you get an additional price\n",
    "\n",
    "then print the finall price \n"
   ]
  },
  {
   "cell_type": "code",
   "execution_count": 10,
   "id": "8dd3f690-e449-4707-a48b-45746a39ff49",
   "metadata": {},
   "outputs": [
    {
     "name": "stdin",
     "output_type": "stream",
     "text": [
      "ENTER THE PRICE OF THE PRODUCT : 2999\n"
     ]
    },
    {
     "name": "stdout",
     "output_type": "stream",
     "text": [
      "the final price is 2099.2999999999997 \n",
      "congrats\n"
     ]
    }
   ],
   "source": [
    "amt=int(input(\"ENTER THE PRICE OF THE PRODUCT :\"))\n",
    "\n",
    "if amt > 3000:\n",
    "    print(\"the final price is {} \".format(amt*0.8))\n",
    "elif amt>=2000 and amt<= 3000:\n",
    "    print(\"the final price is {} \".format(amt*0.7))\n",
    "    if amt==2999:\n",
    "        print(\"congrats\")\n",
    "elif amt <2000:\n",
    "    print(\"the final price is {} \".format(amt*0.6))\n",
    "        \n",
    "        "
   ]
  },
  {
   "cell_type": "code",
   "execution_count": 12,
   "id": "caae6595-a08c-43be-919f-63cb1d6beba7",
   "metadata": {},
   "outputs": [
    {
     "name": "stdin",
     "output_type": "stream",
     "text": [
      "inter the number 1000\n"
     ]
    },
    {
     "name": "stdout",
     "output_type": "stream",
     "text": [
      "go home\n"
     ]
    }
   ],
   "source": [
    "##  sinle statement suits\n",
    "val=int(input(\"inter the number\"))\n",
    "if (val<=999):print(\"value is less than 999\")\n",
    "else:\n",
    "    print(\"go home\")"
   ]
  },
  {
   "cell_type": "markdown",
   "id": "fd1af5ac-9a11-4b75-9779-3f68e579c141",
   "metadata": {},
   "source": [
    "## loop statements\n",
    "1.while loop\n",
    "2.for loop\n",
    "3.Nested loops\n",
    "4.Loop controls(break continue pass)"
   ]
  },
  {
   "cell_type": "code",
   "execution_count": 5,
   "id": "800f481e-2b12-42c4-a7a9-b8e837ffdf4f",
   "metadata": {},
   "outputs": [
    {
     "name": "stdout",
     "output_type": "stream",
     "text": [
      "25\n",
      "26\n",
      "27\n",
      "28\n",
      "29\n",
      "30\n",
      "31\n",
      "32\n",
      "33\n",
      "34\n",
      "35\n",
      "36\n",
      "37\n",
      "38\n",
      "39\n",
      "40\n",
      "41\n",
      "42\n",
      "43\n",
      "44\n",
      "45\n",
      "46\n",
      "47\n",
      "48\n",
      "49\n",
      "50\n",
      "51\n",
      "52\n",
      "53\n",
      "54\n",
      "55\n",
      "56\n",
      "57\n",
      "58\n",
      "59\n",
      "60\n",
      "its time for retirement\n"
     ]
    }
   ],
   "source": [
    "## while loop\n",
    "joining_age=25\n",
    "while joining_age<=60:\n",
    "      print(joining_age)\n",
    "      joining_age=joining_age+1\n",
    "    \n",
    "else:\n",
    "    print(\"its time for retirement\")"
   ]
  },
  {
   "cell_type": "markdown",
   "id": "20d25e94-289d-408f-a935-83eb807284d7",
   "metadata": {},
   "source": [
    "## question \n",
    "lets say we have an ATMM machine it has 1000 rs ,every time a tranaction is done 100 is withdrawn\n"
   ]
  },
  {
   "cell_type": "code",
   "execution_count": 3,
   "id": "b16c6f84-c1ae-44cb-b175-b7517d094dc8",
   "metadata": {},
   "outputs": [
    {
     "name": "stdout",
     "output_type": "stream",
     "text": [
      "1000\n",
      "900\n",
      "800\n",
      "700\n",
      "600\n",
      "500\n",
      "400\n",
      "300\n",
      "200\n",
      "100\n",
      "put more money bank people\n"
     ]
    }
   ],
   "source": [
    "## atm machine with 1000 rs\n",
    "total_amount=1000\n",
    "while total_amount!=0:\n",
    "      print(total_amount)\n",
    "      total_amount=total_amount-100\n",
    "else:\n",
    "    print (\"put more money bank people\")\n",
    "          \n",
    "         "
   ]
  },
  {
   "cell_type": "markdown",
   "id": "ae3da71d-512a-4260-a017-5ffa38eeaba9",
   "metadata": {},
   "source": [
    "## FOR LOOPS\n",
    "\n"
   ]
  },
  {
   "cell_type": "code",
   "execution_count": 1,
   "id": "3bb9306b-dc70-4ac5-a52a-eab3233bc196",
   "metadata": {},
   "outputs": [],
   "source": [
    "lst=[\"soumo\",1,2,3,4,\"apple\",\"banana\"]"
   ]
  },
  {
   "cell_type": "code",
   "execution_count": 2,
   "id": "7e5e09e7-cb92-4269-b1f3-64f1cbc59f77",
   "metadata": {},
   "outputs": [
    {
     "data": {
      "text/plain": [
       "['soumo', 1, 2, 3, 4, 'apple', 'banana']"
      ]
     },
     "execution_count": 2,
     "metadata": {},
     "output_type": "execute_result"
    }
   ],
   "source": [
    "lst"
   ]
  },
  {
   "cell_type": "code",
   "execution_count": 3,
   "id": "8d8fc988-c60d-4ad0-ba76-a7810f16b743",
   "metadata": {},
   "outputs": [
    {
     "data": {
      "text/plain": [
       "list"
      ]
     },
     "execution_count": 3,
     "metadata": {},
     "output_type": "execute_result"
    }
   ],
   "source": [
    "type(lst)"
   ]
  },
  {
   "cell_type": "code",
   "execution_count": 4,
   "id": "71debf7c-ad10-451d-8211-d3f7eebc0b5f",
   "metadata": {},
   "outputs": [
    {
     "data": {
      "text/plain": [
       "'soumo'"
      ]
     },
     "execution_count": 4,
     "metadata": {},
     "output_type": "execute_result"
    }
   ],
   "source": [
    "lst[2]\n",
    "lst[0]"
   ]
  },
  {
   "cell_type": "code",
   "execution_count": 5,
   "id": "b5a71552-bc71-4136-b95a-b6f17970dde2",
   "metadata": {},
   "outputs": [
    {
     "name": "stdout",
     "output_type": "stream",
     "text": [
      "soumo\n",
      "apple\n"
     ]
    }
   ],
   "source": [
    "print(lst[0])\n",
    "print(lst[5])"
   ]
  },
  {
   "cell_type": "code",
   "execution_count": 8,
   "id": "ccfb9d6f-76e1-4c68-9ae9-4bfdff54d633",
   "metadata": {},
   "outputs": [
    {
     "name": "stdout",
     "output_type": "stream",
     "text": [
      "1\n",
      "3\n",
      "5\n"
     ]
    }
   ],
   "source": [
    "### nested loops\n",
    "## range(start and stop)\n",
    "n=7\n",
    "for i in range(1,6,2):\n",
    "    print(i)\n"
   ]
  },
  {
   "cell_type": "code",
   "execution_count": 20,
   "id": "cb8ac42a-9b55-49f4-a7e2-4eab3bf4bf87",
   "metadata": {},
   "outputs": [
    {
     "name": "stdout",
     "output_type": "stream",
     "text": [
      "*\n",
      "**\n",
      "***\n",
      "****\n",
      "*****\n",
      "******\n",
      "*******\n",
      "********\n",
      "*********\n"
     ]
    }
   ],
   "source": [
    "n=9\n",
    "for i in range(0,n):\n",
    "    for j in range (0,i+1):\n",
    "        print(\"*\",end=\"\")\n",
    "    print(\"\\r\")"
   ]
  },
  {
   "cell_type": "code",
   "execution_count": 2,
   "id": "7fae9ef4-3c6d-426e-bf57-6539e462f0e7",
   "metadata": {},
   "outputs": [
    {
     "name": "stdout",
     "output_type": "stream",
     "text": [
      "mango\n",
      "apple\n",
      "banana\n",
      "cherry\n",
      "lichi\n",
      "watermelon\n"
     ]
    }
   ],
   "source": [
    "fruit_list=[\"mango\",\"apple\",\"banana\",\"cherry\",\"lichi\",\"watermelon\"]\n",
    "for i in fruit_list:\n",
    "    print(i)"
   ]
  },
  {
   "cell_type": "code",
   "execution_count": 12,
   "id": "97bf3feb-3075-406c-9af7-325366a96230",
   "metadata": {},
   "outputs": [
    {
     "name": "stdout",
     "output_type": "stream",
     "text": [
      "mango\n",
      "apple\n",
      "banana\n",
      "the fruit is banana\n",
      "cherry\n",
      "lichi\n",
      "watermelon\n"
     ]
    }
   ],
   "source": [
    "for i in fruit_list:\n",
    "    print(i)\n",
    "    if i==\"banana\":\n",
    "        print(\"the fruit is banana\")"
   ]
  },
  {
   "cell_type": "markdown",
   "id": "4e3bcfb8-3a6a-452d-921f-6bfcb2629319",
   "metadata": {},
   "source": [
    "## question\n",
    "write a program to draw a right angle triangle with \"*\""
   ]
  },
  {
   "cell_type": "code",
   "execution_count": 15,
   "id": "8582b94f-960b-4eb7-a322-2c6179353f3d",
   "metadata": {},
   "outputs": [
    {
     "name": "stdin",
     "output_type": "stream",
     "text": [
      "enter the size :  15\n"
     ]
    },
    {
     "name": "stdout",
     "output_type": "stream",
     "text": [
      "*\n",
      "**\n",
      "***\n",
      "****\n",
      "*****\n",
      "******\n",
      "*******\n",
      "********\n",
      "*********\n",
      "**********\n",
      "***********\n",
      "************\n",
      "*************\n",
      "**************\n",
      "***************\n"
     ]
    }
   ],
   "source": [
    "n=int(input(\"enter the size : \"))\n",
    "\n",
    "for i in range(0,n):\n",
    "    for j in range(0,i+1):\n",
    "        print(\"*\",end=\"\")\n",
    "    print(\"\\r\")\n"
   ]
  },
  {
   "cell_type": "code",
   "execution_count": 30,
   "id": "e292a567-8435-4308-a866-834a540e8b7d",
   "metadata": {},
   "outputs": [
    {
     "name": "stdin",
     "output_type": "stream",
     "text": [
      "enter the size :  6\n"
     ]
    },
    {
     "name": "stdout",
     "output_type": "stream",
     "text": [
      "******\n",
      " *****\n",
      " *****\n",
      "  ****\n",
      "  ****\n",
      "   ***\n"
     ]
    }
   ],
   "source": [
    "n=int(input(\"enter the size : \"))\n",
    "\n",
    "for i in range(0,n):\n",
    "    for j in range(0,n):\n",
    "        if (j<(i)/2):\n",
    "            print(\" \",end=\"\")\n",
    "        else:\n",
    "            print(\"*\",end=\"\")\n",
    "    print(\"\\r\")"
   ]
  },
  {
   "cell_type": "code",
   "execution_count": 1,
   "id": "b207bb24-cb4c-4433-8f7e-d82a96a635a9",
   "metadata": {},
   "outputs": [
    {
     "name": "stdin",
     "output_type": "stream",
     "text": [
      "Enter the triangle Length: 5\n"
     ]
    },
    {
     "name": "stdout",
     "output_type": "stream",
     "text": [
      "     *\n",
      "    **\n",
      "   ****\n",
      "  ******\n",
      " ********\n"
     ]
    }
   ],
   "source": [
    "## Assignments \n",
    "\n",
    "size = int(input(\"Enter the triangle Length:\"))\n",
    "for i in range(size):\n",
    "    for j in range(size-i):\n",
    "        print(\"\",end=\" \")\n",
    "    for k in range(i+1) :\n",
    "        print(\"*\",end=\"\")\n",
    "    for m in range(k-1):\n",
    "        print(\"*\", end=\"\")\n",
    "    print()"
   ]
  },
  {
   "cell_type": "code",
   "execution_count": null,
   "id": "0ea6b13e-2446-4829-b840-f14cb95f4d1f",
   "metadata": {},
   "outputs": [],
   "source": []
  }
 ],
 "metadata": {
  "kernelspec": {
   "display_name": "Python 3 (ipykernel)",
   "language": "python",
   "name": "python3"
  },
  "language_info": {
   "codemirror_mode": {
    "name": "ipython",
    "version": 3
   },
   "file_extension": ".py",
   "mimetype": "text/x-python",
   "name": "python",
   "nbconvert_exporter": "python",
   "pygments_lexer": "ipython3",
   "version": "3.10.8"
  }
 },
 "nbformat": 4,
 "nbformat_minor": 5
}
