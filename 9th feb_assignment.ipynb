{
 "cells": [
  {
   "cell_type": "markdown",
   "id": "ba363f3c-f369-470b-a8d0-65fcdbb3f999",
   "metadata": {},
   "source": [
    "Q1, Create a vehicle class with an init method having instance variables as name_of_vehicle, max_speed and average_of_vehicle."
   ]
  },
  {
   "cell_type": "markdown",
   "id": "3a214e15-8fdf-4200-9b6b-ac12af32ffa3",
   "metadata": {},
   "source": [
    "*ANSWER*"
   ]
  },
  {
   "cell_type": "code",
   "execution_count": 1,
   "id": "9eb429af-a83a-47fd-818e-f2b951d188da",
   "metadata": {},
   "outputs": [],
   "source": [
    "class vehicle:\n",
    "    def __init__(self,name_of_vehicle,max_speed,avg_of_vehicle):\n",
    "        self.name_of_vehicle=name_of_vehicle\n",
    "        self.max_speed=max_speed\n",
    "        self.avg_of_vehicle=avg_of_vehicle\n",
    "    def return_vehicle_details(self):\n",
    "        return 'name_of_vehicle-->',self.name_of_vehicle,'max_speed-->',self.max_speed,'avg_of_vehicle-->',self.avg_of_vehicle\n",
    "        "
   ]
  },
  {
   "cell_type": "code",
   "execution_count": 2,
   "id": "4562e2b2-7c41-4205-ba39-26349ce4c0c0",
   "metadata": {},
   "outputs": [],
   "source": [
    "obj_vehicle=vehicle(\"TATA NEXON\",120,30)"
   ]
  },
  {
   "cell_type": "code",
   "execution_count": 3,
   "id": "abbe263a-6fc3-4271-8590-58afea4e05db",
   "metadata": {},
   "outputs": [
    {
     "data": {
      "text/plain": [
       "'TATA NEXON'"
      ]
     },
     "execution_count": 3,
     "metadata": {},
     "output_type": "execute_result"
    }
   ],
   "source": [
    "obj_vehicle.name_of_vehicle"
   ]
  },
  {
   "cell_type": "code",
   "execution_count": 4,
   "id": "92d28a3c-2e98-497f-9305-5da991688b90",
   "metadata": {},
   "outputs": [
    {
     "data": {
      "text/plain": [
       "('name_of_vehicle-->',\n",
       " 'TATA NEXON',\n",
       " 'max_speed-->',\n",
       " 120,\n",
       " 'avg_of_vehicle-->',\n",
       " 30)"
      ]
     },
     "execution_count": 4,
     "metadata": {},
     "output_type": "execute_result"
    }
   ],
   "source": [
    "obj_vehicle.return_vehicle_details()"
   ]
  },
  {
   "cell_type": "markdown",
   "id": "5aed6fda-3bc7-4624-ae6f-3d078aba4528",
   "metadata": {},
   "source": [
    "***\n",
    "***"
   ]
  },
  {
   "cell_type": "markdown",
   "id": "438200b8-a74b-4570-a5fb-0807f5e878fe",
   "metadata": {},
   "source": [
    "Q2. Create a child class car from the vehicle class created in Que 1, which will inherit the vehicle class.\n",
    "Create a method named seating_capacity which takes capacity as an argument and returns the name of the vehicle and its seating capacity."
   ]
  },
  {
   "cell_type": "code",
   "execution_count": 5,
   "id": "5c211ada-4194-4a96-bc71-6145fb611b6e",
   "metadata": {},
   "outputs": [],
   "source": [
    "class Vehicle:\n",
    "    def __init__(self, name):\n",
    "        self.name = name\n",
    "\n",
    "    def get_name(self):\n",
    "        return self.name\n",
    "\n",
    "\n",
    "class Car(Vehicle):\n",
    "    def seating_capacity(self,capacity):\n",
    "        if (capacity)==5:\n",
    "            return f\"The SEADAN has a seating capacity of {capacity}.\"\n",
    "        if (capacity)==7:\n",
    "            return f\"The TOYOTA has a seating capacity of {capacity}.\"\n",
    "        if (capacity)==8:\n",
    "            return f\"The TATA has a seating capacity of {capacity}.\"\n",
    "        if (capacity)==4:\n",
    "            return f\"The JAGUAR has a seating capacity of {capacity}.\"\n",
    "        else:\n",
    "            return \"NO SUCH SEGMENT FOUND\""
   ]
  },
  {
   "cell_type": "code",
   "execution_count": 6,
   "id": "6a8526bb-66be-4cec-8e3f-ce14b1c440b0",
   "metadata": {},
   "outputs": [],
   "source": [
    "car = Car(\"Sedan\")\n",
    "car1= Car(\"toyota\")\n",
    "car2= Car(\"tata\")\n",
    "car3 =Car(\"jaguar\")"
   ]
  },
  {
   "cell_type": "code",
   "execution_count": 7,
   "id": "76175fe9-7690-41c3-9278-507d9b4476c6",
   "metadata": {},
   "outputs": [
    {
     "data": {
      "text/plain": [
       "'NO SUCH SEGMENT FOUND'"
      ]
     },
     "execution_count": 7,
     "metadata": {},
     "output_type": "execute_result"
    }
   ],
   "source": [
    "car3.seating_capacity(89)"
   ]
  },
  {
   "cell_type": "markdown",
   "id": "54d6d96b-996f-4ac5-b853-ee59a9a648b3",
   "metadata": {},
   "source": [
    "***\n",
    "***"
   ]
  },
  {
   "cell_type": "markdown",
   "id": "6e254728-3b18-4e70-92fb-5bd900a25990",
   "metadata": {},
   "source": [
    "Q3. What is multiple inheritance? Write a python code to demonstrate multiple inheritance."
   ]
  },
  {
   "cell_type": "markdown",
   "id": "d88f4011-75b5-40b9-bef8-02ad5d866c7e",
   "metadata": {},
   "source": [
    "*ANSWER*"
   ]
  },
  {
   "cell_type": "code",
   "execution_count": 8,
   "id": "4e8fde7b-fdd5-4883-b811-de1bba69141e",
   "metadata": {},
   "outputs": [],
   "source": [
    "class class1:\n",
    "    def test_class1(self):\n",
    "        print(\"this is my class 1\")\n",
    "class class2:\n",
    "    def test_class2(self):\n",
    "        print(\"this is my class 2 \")\n",
    "class class3(class1,class2):\n",
    "    pass"
   ]
  },
  {
   "cell_type": "code",
   "execution_count": 9,
   "id": "f891c8c0-2d24-4706-9e82-69ab36162505",
   "metadata": {},
   "outputs": [],
   "source": [
    "obj_class1=class1()\n",
    "obj_class2=class2()\n",
    "obj_class3=class3()"
   ]
  },
  {
   "cell_type": "code",
   "execution_count": 10,
   "id": "e8e39df8-c38b-43f6-95a1-a59591312e77",
   "metadata": {},
   "outputs": [
    {
     "name": "stdout",
     "output_type": "stream",
     "text": [
      "this is my class 1\n"
     ]
    }
   ],
   "source": [
    "obj_class3.test_class1()"
   ]
  },
  {
   "cell_type": "code",
   "execution_count": 11,
   "id": "3b171d95-0df6-4ae3-a547-7d63f5423055",
   "metadata": {},
   "outputs": [
    {
     "name": "stdout",
     "output_type": "stream",
     "text": [
      "this is my class 2 \n"
     ]
    }
   ],
   "source": [
    "obj_class3.test_class2()"
   ]
  },
  {
   "cell_type": "markdown",
   "id": "da849463-a9a5-4a77-b048-aca2e0843cb2",
   "metadata": {},
   "source": [
    "***\n",
    "***"
   ]
  },
  {
   "cell_type": "markdown",
   "id": "742e300d-4835-4874-b92a-8f5d66003e3a",
   "metadata": {},
   "source": [
    "Q4. What are getter and setter in python? Create a class and create a getter and a setter method in this\n",
    "class."
   ]
  },
  {
   "cell_type": "markdown",
   "id": "c2d11e57-8d62-4ce3-afb7-f17821d27ec8",
   "metadata": {},
   "source": [
    "*ANSWER*"
   ]
  },
  {
   "cell_type": "markdown",
   "id": "9b5b8f5e-5814-41eb-b26a-5d61e488513b",
   "metadata": {},
   "source": [
    "Getters and Setters are not the same as those in other object-oriented programming languages. Basically, the main purpose of using getters and setters in object-oriented programs is to ensure data encapsulation."
   ]
  },
  {
   "cell_type": "markdown",
   "id": "e47684aa-3185-4498-ad55-158620acf3bf",
   "metadata": {},
   "source": [
    "***\n",
    "***"
   ]
  },
  {
   "cell_type": "markdown",
   "id": "da6e9410-d83f-4f13-b866-3a989160dd8a",
   "metadata": {},
   "source": [
    "Q5.What is method overriding in python? Write a python code to demonstrate method overriding."
   ]
  },
  {
   "cell_type": "markdown",
   "id": "d6064234-0d0d-40cb-9772-cd8a3c06e475",
   "metadata": {},
   "source": [
    "Method overriding is an ability of any object-oriented programming language that allows a subclass or child class to provide a specific implementation of a method that is already provided by one of its super-classes or parent classes. When a method in a subclass has the same name, same parameters or signature and same return type(or sub-type) as a method in its super-class, then the method in the subclass is said to override the method in the super-class."
   ]
  },
  {
   "cell_type": "code",
   "execution_count": 12,
   "id": "cc2417a3-1d76-4147-a9b4-5919796b65dc",
   "metadata": {},
   "outputs": [],
   "source": [
    "class Parent():\n",
    "\t\n",
    "\t\n",
    "\tdef __init__(self):\n",
    "\t\tself.value = \"Inside Parent\"\n",
    "\t\t\n",
    "\tdef show(self):\n",
    "\t\tprint(self.value)\n",
    "\t\t\n",
    "\n",
    "class Child(Parent):\n",
    "\t\n",
    "\t\n",
    "\tdef __init__(self):\n",
    "\t\tself.value = \"Inside Child\"\n",
    "\t\t\n",
    "\t\n",
    "\tdef show(self):\n",
    "\t\tprint(self.value)\n",
    "\t\t\n",
    "\n",
    "obj1 = Parent()\n",
    "obj2 = Child()\n"
   ]
  },
  {
   "cell_type": "code",
   "execution_count": 13,
   "id": "289bc3e1-3c7d-40b4-a31f-d2f7d324f2d1",
   "metadata": {},
   "outputs": [
    {
     "name": "stdout",
     "output_type": "stream",
     "text": [
      "Inside Child\n"
     ]
    }
   ],
   "source": [
    "obj2.show()"
   ]
  },
  {
   "cell_type": "code",
   "execution_count": 14,
   "id": "a3acfb42-24cc-4c66-b1c4-2b302bcc53bb",
   "metadata": {},
   "outputs": [
    {
     "name": "stdout",
     "output_type": "stream",
     "text": [
      "Inside Parent\n"
     ]
    }
   ],
   "source": [
    "obj1.show()"
   ]
  },
  {
   "cell_type": "markdown",
   "id": "a5e3f70f-5f51-4a19-acb5-2f8118dbd8b7",
   "metadata": {},
   "source": [
    "****\n",
    "****"
   ]
  }
 ],
 "metadata": {
  "kernelspec": {
   "display_name": "Python 3 (ipykernel)",
   "language": "python",
   "name": "python3"
  },
  "language_info": {
   "codemirror_mode": {
    "name": "ipython",
    "version": 3
   },
   "file_extension": ".py",
   "mimetype": "text/x-python",
   "name": "python",
   "nbconvert_exporter": "python",
   "pygments_lexer": "ipython3",
   "version": "3.10.8"
  },
  "toc-showcode": false
 },
 "nbformat": 4,
 "nbformat_minor": 5
}
