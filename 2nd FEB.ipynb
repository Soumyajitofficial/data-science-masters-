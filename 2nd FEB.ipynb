{
 "cells": [
  {
   "cell_type": "markdown",
   "id": "3cf98658-59e5-4e1e-9777-6f6ca0f6c227",
   "metadata": {},
   "source": [
    "Q1. What are the characteristics of the tuples? Is tuple immutable?"
   ]
  },
  {
   "cell_type": "markdown",
   "id": "3be59dc8-95c7-4358-a048-13ffbeb2bb9e",
   "metadata": {},
   "source": [
    "*ANSWERS*\n",
    "\n",
    "\n",
    "charractericts of tuples are:\n",
    "1) The can be indexed.\n",
    "2) They are immutable.\n",
    "3) They are ordered.\n",
    "4) 'tuple' object does not support item assignment.\n",
    "5) can store duplicate items.\n",
    "\n",
    "\n",
    "*****************************************************************************************************************************************************"
   ]
  },
  {
   "cell_type": "markdown",
   "id": "5646edda-fad6-45a0-b545-4144ce483116",
   "metadata": {},
   "source": [
    "Q2. What are the two tuple methods in python? Give an example of each method. Give a reason why\n",
    "tuples have only two in-built methods as compared to Lists."
   ]
  },
  {
   "cell_type": "markdown",
   "id": "b2338ff5-2a38-4fae-a984-0676ceffb36e",
   "metadata": {},
   "source": [
    "*ANSWER*\n",
    "\n",
    "The two tuples method in python are \n",
    "1) count ()\n",
    "2) index ()"
   ]
  },
  {
   "cell_type": "code",
   "execution_count": 6,
   "id": "43974c7c-0425-46c7-8974-caa3b5fe7927",
   "metadata": {},
   "outputs": [
    {
     "name": "stdout",
     "output_type": "stream",
     "text": [
      "1\n",
      "3\n"
     ]
    }
   ],
   "source": [
    "t1=(1,2,3,4)\n",
    "print(t1.count(2))##Return number of occurrences of value.\n",
    "print(t1.index(4))#Return first index of value.\n"
   ]
  },
  {
   "cell_type": "markdown",
   "id": "ea6dc258-2ce8-4fba-9b6a-b77084dd9324",
   "metadata": {},
   "source": [
    "Tuples are immutable, whereas lists can be modified. This in itself explains why tuples don't have any way of modifying them\n",
    "\n",
    "******************************************************************************************************************************************************"
   ]
  },
  {
   "cell_type": "markdown",
   "id": "2e9fc099-f91d-4dcf-9137-97b0b78170c8",
   "metadata": {},
   "source": [
    "Q3. Which collection datatypes in python do not allow duplicate items? Write a code using a set to remove\n",
    "duplicates from the given list."
   ]
  },
  {
   "cell_type": "markdown",
   "id": "908a109d-7a68-4219-9a3f-bac1dd00b791",
   "metadata": {},
   "source": [
    "*Answer*\n",
    "\n",
    "SET doesn't allow duplicate items."
   ]
  },
  {
   "cell_type": "code",
   "execution_count": 10,
   "id": "6897a503-13d7-43a7-81d3-59e76abcf96f",
   "metadata": {},
   "outputs": [
    {
     "data": {
      "text/plain": [
       "{1, 2, 3, 4}"
      ]
     },
     "execution_count": 10,
     "metadata": {},
     "output_type": "execute_result"
    }
   ],
   "source": [
    "List = [1, 1, 1, 2, 1, 3, 1, 4, 2, 1, 2, 2, 2, 3, 2, 4, 3, 1, 3, 2, 3, 3, 3, 4, 4, 1, 4, 2, 4, 3, 4, 4]\n",
    "set(List)"
   ]
  },
  {
   "cell_type": "markdown",
   "id": "40dfc435-fc5d-40a9-a5ff-9e1dcaa04dc2",
   "metadata": {},
   "source": [
    "***"
   ]
  },
  {
   "cell_type": "markdown",
   "id": "ee468226-2d54-46c5-a284-0d116c3c8146",
   "metadata": {},
   "source": [
    "Q4. Explain the difference between the union() and update() methods for a set. Give an example of\n",
    "each method."
   ]
  },
  {
   "cell_type": "code",
   "execution_count": 7,
   "id": "30608bee-3c20-474c-bc79-7223e5c1e953",
   "metadata": {},
   "outputs": [
    {
     "data": {
      "text/plain": [
       "{1, 2, 3, 4, 5, 6}"
      ]
     },
     "execution_count": 7,
     "metadata": {},
     "output_type": "execute_result"
    }
   ],
   "source": [
    "set1={1,2,3,4}\n",
    "set2={2,4,5,6}\n",
    "set1.union(set2)## here we could see that the set1 and set2 are not effected i.e it is not a inplace function"
   ]
  },
  {
   "cell_type": "code",
   "execution_count": 8,
   "id": "4380500c-ba39-4f62-9404-d50311ae64e6",
   "metadata": {},
   "outputs": [
    {
     "data": {
      "text/plain": [
       "{1, 2, 3, 4}"
      ]
     },
     "execution_count": 8,
     "metadata": {},
     "output_type": "execute_result"
    }
   ],
   "source": [
    "set1"
   ]
  },
  {
   "cell_type": "code",
   "execution_count": 9,
   "id": "f924cd0c-c68f-4ed7-8a0c-d9c5a6df2ff2",
   "metadata": {},
   "outputs": [
    {
     "data": {
      "text/plain": [
       "{2, 4, 5, 6}"
      ]
     },
     "execution_count": 9,
     "metadata": {},
     "output_type": "execute_result"
    }
   ],
   "source": [
    "set2"
   ]
  },
  {
   "cell_type": "code",
   "execution_count": 10,
   "id": "e09dbd84-397d-4796-bcaa-c971bd302b22",
   "metadata": {},
   "outputs": [],
   "source": [
    "set1={1,2,3,4}\n",
    "set2={2,4,5,6}"
   ]
  },
  {
   "cell_type": "code",
   "execution_count": 14,
   "id": "fe4dd2fc-4db4-409f-9b0c-9d5a634cfa29",
   "metadata": {},
   "outputs": [],
   "source": [
    "set1.update(set2)## here the set1 is changed and updated with the union ,this is an inplace operation"
   ]
  },
  {
   "cell_type": "code",
   "execution_count": 15,
   "id": "42ff971f-babb-43ac-9ff5-7b718c020551",
   "metadata": {},
   "outputs": [
    {
     "data": {
      "text/plain": [
       "{1, 2, 3, 4, 5, 6}"
      ]
     },
     "execution_count": 15,
     "metadata": {},
     "output_type": "execute_result"
    }
   ],
   "source": [
    "set1"
   ]
  },
  {
   "cell_type": "code",
   "execution_count": 16,
   "id": "96daa2ba-5364-46d5-a3aa-e3b127463c2d",
   "metadata": {},
   "outputs": [
    {
     "data": {
      "text/plain": [
       "{2, 4, 5, 6}"
      ]
     },
     "execution_count": 16,
     "metadata": {},
     "output_type": "execute_result"
    }
   ],
   "source": [
    "set2"
   ]
  },
  {
   "cell_type": "markdown",
   "id": "73f13fe3-1029-448d-90cb-ac030707ad2b",
   "metadata": {},
   "source": [
    "***"
   ]
  },
  {
   "cell_type": "markdown",
   "id": "bff5e98a-9267-4ea5-adaa-69ff576508f0",
   "metadata": {},
   "source": [
    "Q5. What is a dictionary? Give an example. Also, state whether a dictionary is ordered or unordered."
   ]
  },
  {
   "cell_type": "markdown",
   "id": "91dc0726-bf62-437a-8ddb-2925b0150752",
   "metadata": {},
   "source": [
    "*Answer*\n",
    "\n",
    "\n",
    "Dictionary in Python is a collection of keys values, used to store data values.Dictionary holds pairs of values, one being the Key and the other corresponding pair element being its Key:value. Values in a dictionary can be of any data type and can be duplicated, whereas keys can’t be repeated and must be immutable. "
   ]
  },
  {
   "cell_type": "code",
   "execution_count": 19,
   "id": "e28819f4-f18e-4038-a279-0c6159470daa",
   "metadata": {},
   "outputs": [],
   "source": [
    "d1={\"batch_name\":[\"data sciebce masters\",\"web dev\",\"java\"],\"start_date\":(28,14,21),\"mentor_name\":{\"krish\",\"hitesh\",\"sudhansu\",\"anurag\",\"naveen\",\"haider\"}}"
   ]
  },
  {
   "cell_type": "code",
   "execution_count": 20,
   "id": "38e9ff2b-2043-4a92-92d1-d283bebfa5db",
   "metadata": {},
   "outputs": [
    {
     "data": {
      "text/plain": [
       "{'batch_name': ['data sciebce masters', 'web dev', 'java'],\n",
       " 'start_date': (28, 14, 21),\n",
       " 'mentor_name': {'anurag', 'haider', 'hitesh', 'krish', 'naveen', 'sudhansu'}}"
      ]
     },
     "execution_count": 20,
     "metadata": {},
     "output_type": "execute_result"
    }
   ],
   "source": [
    "d1"
   ]
  },
  {
   "cell_type": "markdown",
   "id": "782dab4a-1d54-48e5-9ca4-c440992f7c21",
   "metadata": {},
   "source": [
    "*Dictionary is unorderd*\n",
    "***"
   ]
  },
  {
   "cell_type": "markdown",
   "id": "d6d7869d-b1c9-40f3-8871-68c487012aea",
   "metadata": {},
   "source": [
    "Q6. Can we create a nested dictionary? If so, please give an example by creating a simple one-level\n",
    "nested dictionary."
   ]
  },
  {
   "cell_type": "markdown",
   "id": "bf0ac439-230d-412e-825f-a3427588b91c",
   "metadata": {},
   "source": [
    "*ANSWER*\n",
    "\n",
    "Yes,we can can create a nested dictionary\n",
    "\n",
    "*EXAMPLE*\n"
   ]
  },
  {
   "cell_type": "code",
   "execution_count": 21,
   "id": "edac493a-eee4-49a3-9c0f-66b83f1a8a33",
   "metadata": {},
   "outputs": [],
   "source": [
    "d1={\"keys\":{\"name\":\"soumo\",\"course\":\"DATA  SCIENCE\",\"timing\":(8,6,5)}}"
   ]
  },
  {
   "cell_type": "markdown",
   "id": "5b9800dd-7798-4c41-b905-c243e2daad63",
   "metadata": {},
   "source": [
    "***"
   ]
  },
  {
   "cell_type": "markdown",
   "id": "ac675c2a-98c6-4718-98a9-e45f14c74dab",
   "metadata": {},
   "source": [
    "Q7. Using setdefault() method, create key named topics in the given dictionary and also add the value of\n",
    "the key as this list ['Python', 'Machine Learning’, 'Deep Learning']\n",
    "\n",
    "dict1 = {'language' : 'Python', 'course': 'Data Science Masters'}"
   ]
  },
  {
   "cell_type": "code",
   "execution_count": 44,
   "id": "e6ff6351-61b4-4c77-8aee-c40c0dbc948d",
   "metadata": {},
   "outputs": [
    {
     "name": "stdout",
     "output_type": "stream",
     "text": [
      "{'language': 'Python', 'course': 'Data Science Masters', 'topics': ['Python', 'Machine Learning', 'Deep Learning']}\n"
     ]
    }
   ],
   "source": [
    "dict1 = {'language' : 'Python', 'course': 'Data Science Masters'}  # Initialize an empty dictionary\n",
    "dict1.setdefault('topics', ['Python', 'Machine Learning', 'Deep Learning'])\n",
    "\n",
    "##Insert key with a value of default \n",
    "##if key is not in the dictionary.\n",
    "##Return the value for key if key is in the dictionary, else default.\n",
    "print(dict1)"
   ]
  },
  {
   "cell_type": "code",
   "execution_count": 45,
   "id": "a4a852bc-48e1-4436-8d68-a64efb348d84",
   "metadata": {},
   "outputs": [],
   "source": [
    "## another method of inserting"
   ]
  },
  {
   "cell_type": "code",
   "execution_count": 29,
   "id": "a3cdb887-a7ca-4a39-8c57-b309d671d4d9",
   "metadata": {},
   "outputs": [],
   "source": [
    "dict1 = {'language' : 'Python', 'course': 'Data Science Masters'}"
   ]
  },
  {
   "cell_type": "code",
   "execution_count": 32,
   "id": "85aab6ef-fe8a-4cf1-be28-f28d0bc66d54",
   "metadata": {},
   "outputs": [],
   "source": [
    "dict1[\"Topics\"]=[\"Python\", \"Machine Learning\", \"Deep Learning\"]"
   ]
  },
  {
   "cell_type": "code",
   "execution_count": 33,
   "id": "8393b52d-8b18-42d5-a089-1749cedddf30",
   "metadata": {},
   "outputs": [
    {
     "data": {
      "text/plain": [
       "{'language': 'Python',\n",
       " 'course': 'Data Science Masters',\n",
       " 'Topics': ['Python', 'Machine Learning', 'Deep Learning']}"
      ]
     },
     "execution_count": 33,
     "metadata": {},
     "output_type": "execute_result"
    }
   ],
   "source": [
    "dict1"
   ]
  },
  {
   "cell_type": "markdown",
   "id": "4a0643e3-f2db-4a12-96e8-0482d9224f36",
   "metadata": {},
   "source": [
    "***"
   ]
  },
  {
   "cell_type": "markdown",
   "id": "772057f4-a3c7-474c-a51b-16372f2e0c05",
   "metadata": {},
   "source": [
    "Q8. What are the three view objects in dictionaries? Use the three in-built methods in python to display\n",
    "these three view objects for the given dictionary."
   ]
  },
  {
   "cell_type": "markdown",
   "id": "aceae782-aa9c-4f79-93c8-689c740ca45d",
   "metadata": {},
   "source": [
    "The three view objects in a python dictionary are\n",
    "\n",
    "1) .keys()----> gives only the keys in a dict\n",
    "2) .values()----> gives only the values in a dict\n",
    "3) .items()-----> gives only both the values and keys in a dict\n",
    "4) .get(\"(##keys)\")----> gives only the values corresponding to a pirticular key"
   ]
  },
  {
   "cell_type": "code",
   "execution_count": 39,
   "id": "4b773270-23d0-43c3-929a-9a0089b3755d",
   "metadata": {},
   "outputs": [],
   "source": [
    "dict1 = {'Sport': 'Cricket' , 'Teams': ['India', 'Australia', 'England', 'South Africa', 'Sri Lanka', 'New Zealand']}"
   ]
  },
  {
   "cell_type": "code",
   "execution_count": 40,
   "id": "a3a5743a-4ba3-47db-9cdb-037ad1ac6013",
   "metadata": {},
   "outputs": [
    {
     "data": {
      "text/plain": [
       "dict_keys(['Sport', 'Teams'])"
      ]
     },
     "execution_count": 40,
     "metadata": {},
     "output_type": "execute_result"
    }
   ],
   "source": [
    "dict1.keys() ## key view object"
   ]
  },
  {
   "cell_type": "code",
   "execution_count": 41,
   "id": "8a465a4a-e620-486f-9cea-dfbaeb8c19f0",
   "metadata": {},
   "outputs": [
    {
     "data": {
      "text/plain": [
       "dict_values(['Cricket', ['India', 'Australia', 'England', 'South Africa', 'Sri Lanka', 'New Zealand']])"
      ]
     },
     "execution_count": 41,
     "metadata": {},
     "output_type": "execute_result"
    }
   ],
   "source": [
    "dict1.values()"
   ]
  },
  {
   "cell_type": "code",
   "execution_count": 42,
   "id": "47f7d22f-3a47-4edc-909b-4bd5061b9cd6",
   "metadata": {},
   "outputs": [
    {
     "data": {
      "text/plain": [
       "dict_items([('Sport', 'Cricket'), ('Teams', ['India', 'Australia', 'England', 'South Africa', 'Sri Lanka', 'New Zealand'])])"
      ]
     },
     "execution_count": 42,
     "metadata": {},
     "output_type": "execute_result"
    }
   ],
   "source": [
    "dict1.items()"
   ]
  },
  {
   "cell_type": "code",
   "execution_count": 43,
   "id": "cb37b246-bf69-46f3-869f-437063f8da0c",
   "metadata": {},
   "outputs": [
    {
     "data": {
      "text/plain": [
       "['India', 'Australia', 'England', 'South Africa', 'Sri Lanka', 'New Zealand']"
      ]
     },
     "execution_count": 43,
     "metadata": {},
     "output_type": "execute_result"
    }
   ],
   "source": [
    "dict1.get(\"Teams\")"
   ]
  },
  {
   "cell_type": "code",
   "execution_count": null,
   "id": "7901e89e-f8a1-4e34-80e1-d8837310b0ca",
   "metadata": {},
   "outputs": [],
   "source": []
  }
 ],
 "metadata": {
  "kernelspec": {
   "display_name": "Python 3 (ipykernel)",
   "language": "python",
   "name": "python3"
  },
  "language_info": {
   "codemirror_mode": {
    "name": "ipython",
    "version": 3
   },
   "file_extension": ".py",
   "mimetype": "text/x-python",
   "name": "python",
   "nbconvert_exporter": "python",
   "pygments_lexer": "ipython3",
   "version": "3.10.8"
  }
 },
 "nbformat": 4,
 "nbformat_minor": 5
}
