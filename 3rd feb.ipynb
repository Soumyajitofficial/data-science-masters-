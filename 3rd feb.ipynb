{
 "cells": [
  {
   "cell_type": "markdown",
   "id": "cd8b57e9-23f6-45cc-bb7e-b36e2edd8dcd",
   "metadata": {},
   "source": [
    "Q1. Which keyword is used to create a function? Create a function to return a list of odd numbers in the\n",
    "range of 1 to 25."
   ]
  },
  {
   "cell_type": "markdown",
   "id": "ca7abe9a-32d6-469e-b76c-4a3b7ccf42c8",
   "metadata": {},
   "source": [
    "*ANSWER*\n",
    "\n",
    "\n",
    "\"def\" is udesd to create a function\n"
   ]
  },
  {
   "cell_type": "code",
   "execution_count": 25,
   "id": "c4a7e58a-4ae4-499d-bb9b-8253835617f3",
   "metadata": {},
   "outputs": [],
   "source": [
    "def test_odd(n):\n",
    "    oddlist=[]\n",
    "    for i in range(n):\n",
    "        if i%2!=0:\n",
    "            oddlist.append(i)\n",
    "    return oddlist\n",
    "            \n",
    "            "
   ]
  },
  {
   "cell_type": "code",
   "execution_count": 27,
   "id": "51427e67-e85c-4bb3-9e88-d20cd0f24117",
   "metadata": {},
   "outputs": [
    {
     "data": {
      "text/plain": [
       "[1, 3, 5, 7, 9, 11, 13, 15, 17, 19, 21, 23, 25]"
      ]
     },
     "execution_count": 27,
     "metadata": {},
     "output_type": "execute_result"
    }
   ],
   "source": [
    "test_odd(26)"
   ]
  },
  {
   "cell_type": "markdown",
   "id": "7d92deb4-4af2-4f93-80b7-ed03b22e5aa6",
   "metadata": {},
   "source": [
    "***"
   ]
  },
  {
   "cell_type": "markdown",
   "id": "6a4a2b68-e762-4454-b172-fba57ae51a94",
   "metadata": {},
   "source": [
    "Q2. Why *args and **kwargs is used in some functions? Create a function each for *args and **kwargs to\n",
    "demonstrate their use."
   ]
  },
  {
   "cell_type": "markdown",
   "id": "294c0b2f-026e-4c38-abf1-89b6d4de9fd7",
   "metadata": {},
   "source": [
    "*ANSWER*\n",
    "\n",
    "'*args' is used to have multiple number of inputs in a dunction,where as '**kwargs' is used to have multiple no. of dictionary inputs in a function."
   ]
  },
  {
   "cell_type": "code",
   "execution_count": 18,
   "id": "2a1a1585-194b-4e6e-98bb-5ec7d8020cc3",
   "metadata": {},
   "outputs": [],
   "source": [
    "def test1(*args):\n",
    "    return args"
   ]
  },
  {
   "cell_type": "code",
   "execution_count": 19,
   "id": "e2c9221d-b3a8-4042-8b6f-7555042580bd",
   "metadata": {},
   "outputs": [
    {
     "data": {
      "text/plain": [
       "(1, 2, 3, 4, 6, 5, 8, 'soumo', 'biswas')"
      ]
     },
     "execution_count": 19,
     "metadata": {},
     "output_type": "execute_result"
    }
   ],
   "source": [
    "test1(1,2,3,4,6,5,8,\"soumo\",\"biswas\")"
   ]
  },
  {
   "cell_type": "code",
   "execution_count": 21,
   "id": "3463cd88-514f-4aa7-b40f-10225d7857c4",
   "metadata": {},
   "outputs": [
    {
     "data": {
      "text/plain": [
       "{'a': 34, 'b': 13, 'c': [1, 2, 3, 4, 5], 'd': ('soumo', 'biswas')}"
      ]
     },
     "execution_count": 21,
     "metadata": {},
     "output_type": "execute_result"
    }
   ],
   "source": [
    "def test2(**kwargs):\n",
    "    return kwargs\n",
    "\n",
    "test2(a=34,b=13,c=[1,2,3,4,5],d=(\"soumo\",\"biswas\"))"
   ]
  },
  {
   "cell_type": "markdown",
   "id": "e2a2d1ed-db12-48b6-9805-239e13a1310b",
   "metadata": {},
   "source": [
    "***"
   ]
  },
  {
   "cell_type": "markdown",
   "id": "e6b8d7a3-3bd1-4e27-8329-e4b8f86f3d6d",
   "metadata": {},
   "source": [
    "Q4. What is a generator function in python? Why yield keyword is used? Give an example of a generator\n",
    "function."
   ]
  },
  {
   "cell_type": "markdown",
   "id": "dc96020e-2416-4048-b1ca-3f2af69362d1",
   "metadata": {},
   "source": [
    " *ANSWER*\n",
    " \n",
    " \n",
    " A type of function that is memory efficient and can be used like an iterator object"
   ]
  },
  {
   "cell_type": "markdown",
   "id": "2f048b3a-b2f8-475f-bd87-159bc74c0ca2",
   "metadata": {},
   "source": [
    "The yield keyword will turn any expression that is given with it into a generator object and return it to the caller."
   ]
  },
  {
   "cell_type": "code",
   "execution_count": 22,
   "id": "8e442a46-4c25-4dee-a715-9b838e5718b1",
   "metadata": {},
   "outputs": [],
   "source": [
    "def test_fib(n):\n",
    "    a,b=0,1\n",
    "    for i in range(n):\n",
    "        yield a\n",
    "        a,b=b,a+b"
   ]
  },
  {
   "cell_type": "code",
   "execution_count": 23,
   "id": "c6bd1778-8194-4f4f-a9a3-1f994a25a7c1",
   "metadata": {},
   "outputs": [
    {
     "name": "stdout",
     "output_type": "stream",
     "text": [
      "0\n",
      "1\n",
      "1\n",
      "2\n",
      "3\n",
      "5\n",
      "8\n",
      "13\n",
      "21\n",
      "34\n",
      "55\n",
      "89\n",
      "144\n",
      "233\n",
      "377\n",
      "610\n",
      "987\n",
      "1597\n",
      "2584\n",
      "4181\n",
      "6765\n",
      "10946\n",
      "17711\n",
      "28657\n",
      "46368\n"
     ]
    }
   ],
   "source": [
    "for i in test_fib(25):\n",
    "    print(i)"
   ]
  },
  {
   "cell_type": "markdown",
   "id": "e98f7178-5b48-4e8b-bdbc-b8d9e61208f0",
   "metadata": {},
   "source": [
    "***"
   ]
  },
  {
   "cell_type": "markdown",
   "id": "43b58e4e-abc8-41fb-a326-d4dfa28dd612",
   "metadata": {},
   "source": [
    "Q5. Create a generator function for prime numbers less than 1000. Use the next() method to print the\n",
    "first 20 prime numbers."
   ]
  },
  {
   "cell_type": "code",
   "execution_count": 79,
   "id": "7564cd48-047f-4070-9392-3d26b20ccdf6",
   "metadata": {},
   "outputs": [],
   "source": [
    "def test_prime(n):\n",
    "    mylist=[]\n",
    "    prime=[]\n",
    "    for i in range(n):\n",
    "        c=0\n",
    "        for j in range(1,i+1):\n",
    "            if i%j==0:\n",
    "                c=c+1\n",
    "        if (c==2):\n",
    "            mylist.append(i)\n",
    "        prime=mylist[0:20]\n",
    "    return prime\n",
    "    return mylist\n",
    "            \n",
    "        \n",
    "        "
   ]
  },
  {
   "cell_type": "code",
   "execution_count": 81,
   "id": "00fb62bb-707a-4974-9821-ce0ce6918398",
   "metadata": {},
   "outputs": [
    {
     "data": {
      "text/plain": [
       "[2, 3, 5, 7, 11, 13, 17, 19, 23, 29, 31, 37, 41, 43, 47, 53, 59, 61, 67, 71]"
      ]
     },
     "execution_count": 81,
     "metadata": {},
     "output_type": "execute_result"
    }
   ],
   "source": [
    "test_prime(1000) ##was  unable to use the next method"
   ]
  },
  {
   "cell_type": "code",
   "execution_count": null,
   "id": "685b90a0-ef32-4009-aca1-6310df3067be",
   "metadata": {},
   "outputs": [],
   "source": []
  }
 ],
 "metadata": {
  "kernelspec": {
   "display_name": "Python 3 (ipykernel)",
   "language": "python",
   "name": "python3"
  },
  "language_info": {
   "codemirror_mode": {
    "name": "ipython",
    "version": 3
   },
   "file_extension": ".py",
   "mimetype": "text/x-python",
   "name": "python",
   "nbconvert_exporter": "python",
   "pygments_lexer": "ipython3",
   "version": "3.10.8"
  }
 },
 "nbformat": 4,
 "nbformat_minor": 5
}
