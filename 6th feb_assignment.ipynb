{
 "cells": [
  {
   "cell_type": "markdown",
   "id": "f63fe7d3-9855-4247-ba46-a6b09b842692",
   "metadata": {},
   "source": [
    "Q1. Create a function which will take a list as an argument and return the product of all the numbers\n",
    "after creating a flat list.\n",
    "\n",
    "list1 = [1,2,3,4, [44,55,66, True], False, (34,56,78,89,34), {1,2,3,3,2,1}, {1:34, \"key2\": [55, 67, 78, 89], 4: (45,\n",
    "22, 61, 34)}, [56, 'data science'], 'Machine Learning']\n",
    "\n",
    "Note: you must extract numeric keys and values of the dictionary also."
   ]
  },
  {
   "cell_type": "markdown",
   "id": "ba54d171-a3fa-4424-acbb-a5f3439670f2",
   "metadata": {},
   "source": [
    "\n",
    "\n",
    "*ANSWERS*"
   ]
  },
  {
   "cell_type": "code",
   "execution_count": 1,
   "id": "2a21888d-e2d5-4109-8387-3cc17bc489da",
   "metadata": {},
   "outputs": [],
   "source": [
    "list1 = 1,2,3,4, [44,55,66, True], False, (34,56,78,89,34), {1,2,3,3,2,1}, {1:34, \"key2\": [55, 67, 78, 89], 4: (45,\n",
    "22, 61, 34)}, [56, 'data science'], 'Machine Learning'\n",
    "def ext(*args):\n",
    "    l=[]\n",
    "    k=[]\n",
    "    d={}\n",
    "    key=[]\n",
    "    product=1\n",
    "    for i in args:\n",
    "        if type(i)==int:\n",
    "            l.append(i)\n",
    "        if type(i)==list:\n",
    "            k=i\n",
    "            for j in k:\n",
    "                if type(j)==int:\n",
    "                    l.append(j)\n",
    "            k.clear()\n",
    "        if type(i)==tuple:\n",
    "            t=i\n",
    "            for p in t:\n",
    "                if type(p)==int:\n",
    "                    l.append(p)\n",
    "        if type(i)==set:\n",
    "            k=list(i)\n",
    "            for s in k:\n",
    "                if type(s)==int:\n",
    "                    l.append(s)\n",
    "                    \n",
    "        if type(i)==dict:\n",
    "            d=i.copy()\n",
    "            key=d.keys()\n",
    "            value=d.values()\n",
    "            for n in key:\n",
    "                if type(n)==int:\n",
    "                    l.append(n)\n",
    "            for m in value:\n",
    "                if type(m)==int:\n",
    "                    l.append(m)\n",
    "                if type(m)==list:\n",
    "                    for x in m:\n",
    "                        l.append(x)\n",
    "                if type(m)==tuple:\n",
    "                    for y in m :\n",
    "                        l.append(y) \n",
    "                        \n",
    "    for f in l:\n",
    "            product=product*f\n",
    "\n",
    "    \n",
    "    return \"the product of all the numeric values are\",product\n",
    "        "
   ]
  },
  {
   "cell_type": "code",
   "execution_count": 2,
   "id": "1a3b52de-8fca-463a-a004-34d21e69bb10",
   "metadata": {},
   "outputs": [
    {
     "data": {
      "text/plain": [
       "('the product of all the numeric values are',\n",
       " 4134711838987085478833841242112000)"
      ]
     },
     "execution_count": 2,
     "metadata": {},
     "output_type": "execute_result"
    }
   ],
   "source": [
    "ext(1,2,3,4, [44,55,66, True], False, (34,56,78,89,34), {1,2,3,3,2,1}, {1:34, \"key2\": [55, 67, 78, 89], 4: (45,\n",
    "22, 61, 34)}, [56, 'data science'], 'Machine Learning')"
   ]
  },
  {
   "cell_type": "markdown",
   "id": "35549462-8d24-415f-b629-5738fe6d951f",
   "metadata": {},
   "source": [
    "***"
   ]
  },
  {
   "cell_type": "markdown",
   "id": "dc348444-448a-4173-a6de-859123b28530",
   "metadata": {},
   "source": [
    "Q2. Write a python program for encrypting a message sent to you by your friend. The logic of encryption\n",
    "should be such that, for a the output should be z. For b, the output should be y. For c, the output should\n",
    "be x respectively. Also, the whitespace should be replaced with a dollar sign. Keep the punctuation\n",
    "marks unchanged.\n",
    "\n",
    "\n",
    "Input Sentence: I want to become a Data Scientist.\n",
    "\n",
    "\n",
    "\n",
    "Encrypt the above input sentence using the program you just created.\n",
    "\n",
    "\n",
    "\n",
    "Note: Convert the given input sentence into lowercase before encrypting. The final output should be\n",
    "lowercase."
   ]
  },
  {
   "cell_type": "code",
   "execution_count": 4,
   "id": "62258a92-28e1-4141-b193-414a981d3eb3",
   "metadata": {},
   "outputs": [],
   "source": [
    "def encrypt_message(message):\n",
    "    encrypted = \"\"\n",
    "    for char in message:\n",
    "        if char.isalpha():\n",
    "            encrypted=message.replace('a','z')\n",
    "            encrypted=message.replace('b','y')\n",
    "            encrypted=message.replace('c','x')\n",
    "            encrypted=message.replace(' ','$')\n",
    "    return encrypted"
   ]
  },
  {
   "cell_type": "code",
   "execution_count": 6,
   "id": "ade07697-5b82-40d8-90f0-a4277342bf4d",
   "metadata": {},
   "outputs": [
    {
     "data": {
      "text/plain": [
       "'I$want$to$become$a$Data$Scientist.'"
      ]
     },
     "execution_count": 6,
     "metadata": {},
     "output_type": "execute_result"
    }
   ],
   "source": [
    "encrypt_message(\"I want to become a Data Scientist.\")"
   ]
  },
  {
   "cell_type": "code",
   "execution_count": null,
   "id": "4eb0eaa1-867a-4d8d-ad13-6ac9e52a12c4",
   "metadata": {},
   "outputs": [],
   "source": []
  }
 ],
 "metadata": {
  "kernelspec": {
   "display_name": "Python 3 (ipykernel)",
   "language": "python",
   "name": "python3"
  },
  "language_info": {
   "codemirror_mode": {
    "name": "ipython",
    "version": 3
   },
   "file_extension": ".py",
   "mimetype": "text/x-python",
   "name": "python",
   "nbconvert_exporter": "python",
   "pygments_lexer": "ipython3",
   "version": "3.10.8"
  }
 },
 "nbformat": 4,
 "nbformat_minor": 5
}
